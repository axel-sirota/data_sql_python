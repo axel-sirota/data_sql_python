{
  "nbformat": 4,
  "nbformat_minor": 0,
  "metadata": {
    "colab": {
      "provenance": []
    },
    "kernelspec": {
      "name": "python3",
      "display_name": "Python 3"
    },
    "language_info": {
      "name": "python"
    }
  },
  "cells": [
    {
      "cell_type": "markdown",
      "source": [
        "# Running queries to PostgreSQL with SQLAlchemy\n"
      ],
      "metadata": {
        "id": "NkL-Fc2knWWm"
      }
    },
    {
      "cell_type": "markdown",
      "source": [
        "SQLAlchemy is a fully fledged ORM. This notebook will cover all the topics we have seen before but in SQLAlchemy. That is:\n",
        "\n",
        "- Basic queries with SQLAlchemy\n",
        "- Upload of csv as a new table in database with SQLAlchemy\n",
        "- Basic iteration of data from that table on a select * statement\n",
        "- Basic GROUP BY queries\n",
        "- avoid sql injection in SQLAlchemy with Objects\n",
        "- Secting certain columns, rows BY LIMITING and skipping\n",
        "- Doing ORDER BY\n",
        "- Adding pagination to an iterable and fetch results from it with itertools\n",
        "- Simple LEFT JOIN between the drinks table and another made up table with information per country with a 1-1 relationship\n",
        "- LEFT join between the drinks table and another made up table with a 1-many relationship\n",
        "- Complex LEFT JOIN by doing a many-many relationship between a made up table and drinks\n",
        "- More complex LEFT JOIN with temporary table creation between drinks and the many-many relationship table, to do an aggregation.\n"
      ],
      "metadata": {
        "id": "Uiu9sIvbnazn"
      }
    },
    {
      "cell_type": "code",
      "execution_count": 1,
      "metadata": {
        "colab": {
          "base_uri": "https://localhost:8080/"
        },
        "id": "uZHKQFdmcNRX",
        "outputId": "96a4fac3-7e50-4014-efd1-f9e66f6cbdd3"
      },
      "outputs": [
        {
          "output_type": "stream",
          "name": "stdout",
          "text": [
            "Requirement already satisfied: sqlalchemy in /usr/local/lib/python3.10/dist-packages (2.0.29)\n",
            "Requirement already satisfied: typing-extensions>=4.6.0 in /usr/local/lib/python3.10/dist-packages (from sqlalchemy) (4.10.0)\n",
            "Requirement already satisfied: greenlet!=0.4.17 in /usr/local/lib/python3.10/dist-packages (from sqlalchemy) (3.0.3)\n"
          ]
        }
      ],
      "source": [
        "!pip install sqlalchemy"
      ]
    },
    {
      "cell_type": "markdown",
      "source": [
        "## Setup"
      ],
      "metadata": {
        "id": "A95EWNK7nV7-"
      }
    },
    {
      "cell_type": "code",
      "source": [
        "from sqlalchemy import create_engine, Column, Integer, String, Float, ForeignKey\n",
        "from sqlalchemy.ext.declarative import declarative_base\n",
        "from sqlalchemy.orm import sessionmaker, relationship\n",
        "\n",
        "DB_HOST = 'test-db-sql-class.cnct5qiopjti.us-east-1.rds.amazonaws.com'\n",
        "DB_PORT = 5432\n",
        "DB_NAME = 'students'\n",
        "DB_USER = 'student'\n",
        "DB_PASSWORD = 'Password123$'\n",
        "STUDENT_NAME_TABLE = 'default'  # CHANGE THIS!\n",
        "\n",
        "# Database Connection\n",
        "engine = create_engine(f'postgresql://{DB_USER}:{DB_PASSWORD}@{DB_HOST}:{DB_PORT}/{DB_NAME}')\n",
        "Session = sessionmaker(bind=engine)\n",
        "session = Session()\n",
        "Base = declarative_base()\n"
      ],
      "metadata": {
        "colab": {
          "base_uri": "https://localhost:8080/"
        },
        "id": "xbAc7xpYnzWy",
        "outputId": "75ba22a3-298b-41b3-f25c-e2f2bbf3c3f9"
      },
      "execution_count": 69,
      "outputs": [
        {
          "output_type": "stream",
          "name": "stderr",
          "text": [
            "<ipython-input-69-b04cf0620eba>:16: MovedIn20Warning: The ``declarative_base()`` function is now available as sqlalchemy.orm.declarative_base(). (deprecated since: 2.0) (Background on SQLAlchemy 2.0 at: https://sqlalche.me/e/b8d9)\n",
            "  Base = declarative_base()\n"
          ]
        }
      ]
    },
    {
      "cell_type": "code",
      "source": [
        "class Drink(Base):\n",
        "    __tablename__ = f'drinks_{STUDENT_NAME_TABLE}'\n",
        "    id = Column(Integer, primary_key=True)\n",
        "    country = Column(String)\n",
        "    beer_servings = Column(Integer)\n",
        "    spirit_servings = Column(Integer)\n",
        "    wine_servings = Column(Integer)\n",
        "    total_litres_of_pure_alcohol = Column(Float)\n",
        "    continent = Column(String)\n",
        "\n",
        "    def __repr__(self):\n",
        "        return f'<Drink {self.country}, Beer: {self.beer_servings}, Spirit: {self.spirit_servings}, Wine: {self.wine_servings}, Alcohol: {self.total_litres_of_pure_alcohol}, Continent: {self.continent}>'"
      ],
      "metadata": {
        "id": "jbUuIxMVoE4e"
      },
      "execution_count": 20,
      "outputs": []
    },
    {
      "cell_type": "markdown",
      "source": [
        "## 0. Upload CSV"
      ],
      "metadata": {
        "id": "C4T1IlOy3upJ"
      }
    },
    {
      "cell_type": "code",
      "source": [
        "%%writefile get_data.sh\n",
        "\n",
        "mkdir -p data\n",
        "if [ ! -f ./data/drinks.csv ]; then\n",
        "    wget -O data/drinks.csv https://www.dropbox.com/scl/fi/tkfdy0mq30g2t424hmn5o/drinks.csv?rlkey=jl8r4aw1o7y7b5au8icub20pn&dl=0\n",
        "fi\n"
      ],
      "metadata": {
        "colab": {
          "base_uri": "https://localhost:8080/"
        },
        "id": "sahE7U8033LQ",
        "outputId": "41a6145a-39b9-4912-965f-bc9afe3dba94"
      },
      "execution_count": 21,
      "outputs": [
        {
          "output_type": "stream",
          "name": "stdout",
          "text": [
            "Overwriting get_data.sh\n"
          ]
        }
      ]
    },
    {
      "cell_type": "code",
      "source": [
        "!bash get_data.sh"
      ],
      "metadata": {
        "id": "xAgy0z6p4Mks"
      },
      "execution_count": 22,
      "outputs": []
    },
    {
      "cell_type": "code",
      "source": [
        "import pandas as pd\n",
        "\n",
        "drinks_df = pd.read_csv('data/drinks.csv')\n",
        "drinks_df.to_sql(f'drinks_{STUDENT_NAME_TABLE}', engine, if_exists='replace', index=True, index_label='id')\n"
      ],
      "metadata": {
        "colab": {
          "base_uri": "https://localhost:8080/"
        },
        "id": "vCKWCVnk3w7I",
        "outputId": "0e476c6b-c31e-4d2c-b176-5af8ca3420f8"
      },
      "execution_count": 23,
      "outputs": [
        {
          "output_type": "execute_result",
          "data": {
            "text/plain": [
              "193"
            ]
          },
          "metadata": {},
          "execution_count": 23
        }
      ]
    },
    {
      "cell_type": "markdown",
      "source": [
        "## 1. Basic Queries with SQLAlchemy"
      ],
      "metadata": {
        "id": "JqLvx-9g3e0l"
      }
    },
    {
      "cell_type": "code",
      "source": [
        "for drink in session.query(Drink).all():\n",
        "    print(drink)\n"
      ],
      "metadata": {
        "colab": {
          "base_uri": "https://localhost:8080/"
        },
        "id": "K4uPqiho3hEj",
        "outputId": "d88d213c-ed01-4377-d2f2-27fc32731f92"
      },
      "execution_count": 24,
      "outputs": [
        {
          "output_type": "stream",
          "name": "stdout",
          "text": [
            "<Drink Afghanistan, Beer: 0, Spirit: 0, Wine: 0, Alcohol: 0.0, Continent: AS>\n",
            "<Drink Albania, Beer: 89, Spirit: 132, Wine: 54, Alcohol: 4.9, Continent: EU>\n",
            "<Drink Algeria, Beer: 25, Spirit: 0, Wine: 14, Alcohol: 0.7, Continent: AF>\n",
            "<Drink Andorra, Beer: 245, Spirit: 138, Wine: 312, Alcohol: 12.4, Continent: EU>\n",
            "<Drink Angola, Beer: 217, Spirit: 57, Wine: 45, Alcohol: 5.9, Continent: AF>\n",
            "<Drink Antigua & Barbuda, Beer: 102, Spirit: 128, Wine: 45, Alcohol: 4.9, Continent: None>\n",
            "<Drink Argentina, Beer: 193, Spirit: 25, Wine: 221, Alcohol: 8.3, Continent: SA>\n",
            "<Drink Armenia, Beer: 21, Spirit: 179, Wine: 11, Alcohol: 3.8, Continent: EU>\n",
            "<Drink Australia, Beer: 261, Spirit: 72, Wine: 212, Alcohol: 10.4, Continent: OC>\n",
            "<Drink Austria, Beer: 279, Spirit: 75, Wine: 191, Alcohol: 9.7, Continent: EU>\n",
            "<Drink Azerbaijan, Beer: 21, Spirit: 46, Wine: 5, Alcohol: 1.3, Continent: EU>\n",
            "<Drink Bahamas, Beer: 122, Spirit: 176, Wine: 51, Alcohol: 6.3, Continent: None>\n",
            "<Drink Bahrain, Beer: 42, Spirit: 63, Wine: 7, Alcohol: 2.0, Continent: AS>\n",
            "<Drink Bangladesh, Beer: 0, Spirit: 0, Wine: 0, Alcohol: 0.0, Continent: AS>\n",
            "<Drink Barbados, Beer: 143, Spirit: 173, Wine: 36, Alcohol: 6.3, Continent: None>\n",
            "<Drink Belarus, Beer: 142, Spirit: 373, Wine: 42, Alcohol: 14.4, Continent: EU>\n",
            "<Drink Belgium, Beer: 295, Spirit: 84, Wine: 212, Alcohol: 10.5, Continent: EU>\n",
            "<Drink Belize, Beer: 263, Spirit: 114, Wine: 8, Alcohol: 6.8, Continent: None>\n",
            "<Drink Benin, Beer: 34, Spirit: 4, Wine: 13, Alcohol: 1.1, Continent: AF>\n",
            "<Drink Bhutan, Beer: 23, Spirit: 0, Wine: 0, Alcohol: 0.4, Continent: AS>\n",
            "<Drink Bolivia, Beer: 167, Spirit: 41, Wine: 8, Alcohol: 3.8, Continent: SA>\n",
            "<Drink Bosnia-Herzegovina, Beer: 76, Spirit: 173, Wine: 8, Alcohol: 4.6, Continent: EU>\n",
            "<Drink Botswana, Beer: 173, Spirit: 35, Wine: 35, Alcohol: 5.4, Continent: AF>\n",
            "<Drink Brazil, Beer: 245, Spirit: 145, Wine: 16, Alcohol: 7.2, Continent: SA>\n",
            "<Drink Brunei, Beer: 31, Spirit: 2, Wine: 1, Alcohol: 0.6, Continent: AS>\n",
            "<Drink Bulgaria, Beer: 231, Spirit: 252, Wine: 94, Alcohol: 10.3, Continent: EU>\n",
            "<Drink Burkina Faso, Beer: 25, Spirit: 7, Wine: 7, Alcohol: 4.3, Continent: AF>\n",
            "<Drink Burundi, Beer: 88, Spirit: 0, Wine: 0, Alcohol: 6.3, Continent: AF>\n",
            "<Drink Cote d'Ivoire, Beer: 37, Spirit: 1, Wine: 7, Alcohol: 4.0, Continent: AF>\n",
            "<Drink Cabo Verde, Beer: 144, Spirit: 56, Wine: 16, Alcohol: 4.0, Continent: AF>\n",
            "<Drink Cambodia, Beer: 57, Spirit: 65, Wine: 1, Alcohol: 2.2, Continent: AS>\n",
            "<Drink Cameroon, Beer: 147, Spirit: 1, Wine: 4, Alcohol: 5.8, Continent: AF>\n",
            "<Drink Canada, Beer: 240, Spirit: 122, Wine: 100, Alcohol: 8.2, Continent: None>\n",
            "<Drink Central African Republic, Beer: 17, Spirit: 2, Wine: 1, Alcohol: 1.8, Continent: AF>\n",
            "<Drink Chad, Beer: 15, Spirit: 1, Wine: 1, Alcohol: 0.4, Continent: AF>\n",
            "<Drink Chile, Beer: 130, Spirit: 124, Wine: 172, Alcohol: 7.6, Continent: SA>\n",
            "<Drink China, Beer: 79, Spirit: 192, Wine: 8, Alcohol: 5.0, Continent: AS>\n",
            "<Drink Colombia, Beer: 159, Spirit: 76, Wine: 3, Alcohol: 4.2, Continent: SA>\n",
            "<Drink Comoros, Beer: 1, Spirit: 3, Wine: 1, Alcohol: 0.1, Continent: AF>\n",
            "<Drink Congo, Beer: 76, Spirit: 1, Wine: 9, Alcohol: 1.7, Continent: AF>\n",
            "<Drink Cook Islands, Beer: 0, Spirit: 254, Wine: 74, Alcohol: 5.9, Continent: OC>\n",
            "<Drink Costa Rica, Beer: 149, Spirit: 87, Wine: 11, Alcohol: 4.4, Continent: None>\n",
            "<Drink Croatia, Beer: 230, Spirit: 87, Wine: 254, Alcohol: 10.2, Continent: EU>\n",
            "<Drink Cuba, Beer: 93, Spirit: 137, Wine: 5, Alcohol: 4.2, Continent: None>\n",
            "<Drink Cyprus, Beer: 192, Spirit: 154, Wine: 113, Alcohol: 8.2, Continent: EU>\n",
            "<Drink Czech Republic, Beer: 361, Spirit: 170, Wine: 134, Alcohol: 11.8, Continent: EU>\n",
            "<Drink North Korea, Beer: 0, Spirit: 0, Wine: 0, Alcohol: 0.0, Continent: AS>\n",
            "<Drink DR Congo, Beer: 32, Spirit: 3, Wine: 1, Alcohol: 2.3, Continent: AF>\n",
            "<Drink Denmark, Beer: 224, Spirit: 81, Wine: 278, Alcohol: 10.4, Continent: EU>\n",
            "<Drink Djibouti, Beer: 15, Spirit: 44, Wine: 3, Alcohol: 1.1, Continent: AF>\n",
            "<Drink Dominica, Beer: 52, Spirit: 286, Wine: 26, Alcohol: 6.6, Continent: None>\n",
            "<Drink Dominican Republic, Beer: 193, Spirit: 147, Wine: 9, Alcohol: 6.2, Continent: None>\n",
            "<Drink Ecuador, Beer: 162, Spirit: 74, Wine: 3, Alcohol: 4.2, Continent: SA>\n",
            "<Drink Egypt, Beer: 6, Spirit: 4, Wine: 1, Alcohol: 0.2, Continent: AF>\n",
            "<Drink El Salvador, Beer: 52, Spirit: 69, Wine: 2, Alcohol: 2.2, Continent: None>\n",
            "<Drink Equatorial Guinea, Beer: 92, Spirit: 0, Wine: 233, Alcohol: 5.8, Continent: AF>\n",
            "<Drink Eritrea, Beer: 18, Spirit: 0, Wine: 0, Alcohol: 0.5, Continent: AF>\n",
            "<Drink Estonia, Beer: 224, Spirit: 194, Wine: 59, Alcohol: 9.5, Continent: EU>\n",
            "<Drink Ethiopia, Beer: 20, Spirit: 3, Wine: 0, Alcohol: 0.7, Continent: AF>\n",
            "<Drink Fiji, Beer: 77, Spirit: 35, Wine: 1, Alcohol: 2.0, Continent: OC>\n",
            "<Drink Finland, Beer: 263, Spirit: 133, Wine: 97, Alcohol: 10.0, Continent: EU>\n",
            "<Drink France, Beer: 127, Spirit: 151, Wine: 370, Alcohol: 11.8, Continent: EU>\n",
            "<Drink Gabon, Beer: 347, Spirit: 98, Wine: 59, Alcohol: 8.9, Continent: AF>\n",
            "<Drink Gambia, Beer: 8, Spirit: 0, Wine: 1, Alcohol: 2.4, Continent: AF>\n",
            "<Drink Georgia, Beer: 52, Spirit: 100, Wine: 149, Alcohol: 5.4, Continent: EU>\n",
            "<Drink Germany, Beer: 346, Spirit: 117, Wine: 175, Alcohol: 11.3, Continent: EU>\n",
            "<Drink Ghana, Beer: 31, Spirit: 3, Wine: 10, Alcohol: 1.8, Continent: AF>\n",
            "<Drink Greece, Beer: 133, Spirit: 112, Wine: 218, Alcohol: 8.3, Continent: EU>\n",
            "<Drink Grenada, Beer: 199, Spirit: 438, Wine: 28, Alcohol: 11.9, Continent: None>\n",
            "<Drink Guatemala, Beer: 53, Spirit: 69, Wine: 2, Alcohol: 2.2, Continent: None>\n",
            "<Drink Guinea, Beer: 9, Spirit: 0, Wine: 2, Alcohol: 0.2, Continent: AF>\n",
            "<Drink Guinea-Bissau, Beer: 28, Spirit: 31, Wine: 21, Alcohol: 2.5, Continent: AF>\n",
            "<Drink Guyana, Beer: 93, Spirit: 302, Wine: 1, Alcohol: 7.1, Continent: SA>\n",
            "<Drink Haiti, Beer: 1, Spirit: 326, Wine: 1, Alcohol: 5.9, Continent: None>\n",
            "<Drink Honduras, Beer: 69, Spirit: 98, Wine: 2, Alcohol: 3.0, Continent: None>\n",
            "<Drink Hungary, Beer: 234, Spirit: 215, Wine: 185, Alcohol: 11.3, Continent: EU>\n",
            "<Drink Iceland, Beer: 233, Spirit: 61, Wine: 78, Alcohol: 6.6, Continent: EU>\n",
            "<Drink India, Beer: 9, Spirit: 114, Wine: 0, Alcohol: 2.2, Continent: AS>\n",
            "<Drink Indonesia, Beer: 5, Spirit: 1, Wine: 0, Alcohol: 0.1, Continent: AS>\n",
            "<Drink Iran, Beer: 0, Spirit: 0, Wine: 0, Alcohol: 0.0, Continent: AS>\n",
            "<Drink Iraq, Beer: 9, Spirit: 3, Wine: 0, Alcohol: 0.2, Continent: AS>\n",
            "<Drink Ireland, Beer: 313, Spirit: 118, Wine: 165, Alcohol: 11.4, Continent: EU>\n",
            "<Drink Israel, Beer: 63, Spirit: 69, Wine: 9, Alcohol: 2.5, Continent: AS>\n",
            "<Drink Italy, Beer: 85, Spirit: 42, Wine: 237, Alcohol: 6.5, Continent: EU>\n",
            "<Drink Jamaica, Beer: 82, Spirit: 97, Wine: 9, Alcohol: 3.4, Continent: None>\n",
            "<Drink Japan, Beer: 77, Spirit: 202, Wine: 16, Alcohol: 7.0, Continent: AS>\n",
            "<Drink Jordan, Beer: 6, Spirit: 21, Wine: 1, Alcohol: 0.5, Continent: AS>\n",
            "<Drink Kazakhstan, Beer: 124, Spirit: 246, Wine: 12, Alcohol: 6.8, Continent: AS>\n",
            "<Drink Kenya, Beer: 58, Spirit: 22, Wine: 2, Alcohol: 1.8, Continent: AF>\n",
            "<Drink Kiribati, Beer: 21, Spirit: 34, Wine: 1, Alcohol: 1.0, Continent: OC>\n",
            "<Drink Kuwait, Beer: 0, Spirit: 0, Wine: 0, Alcohol: 0.0, Continent: AS>\n",
            "<Drink Kyrgyzstan, Beer: 31, Spirit: 97, Wine: 6, Alcohol: 2.4, Continent: AS>\n",
            "<Drink Laos, Beer: 62, Spirit: 0, Wine: 123, Alcohol: 6.2, Continent: AS>\n",
            "<Drink Latvia, Beer: 281, Spirit: 216, Wine: 62, Alcohol: 10.5, Continent: EU>\n",
            "<Drink Lebanon, Beer: 20, Spirit: 55, Wine: 31, Alcohol: 1.9, Continent: AS>\n",
            "<Drink Lesotho, Beer: 82, Spirit: 29, Wine: 0, Alcohol: 2.8, Continent: AF>\n",
            "<Drink Liberia, Beer: 19, Spirit: 152, Wine: 2, Alcohol: 3.1, Continent: AF>\n",
            "<Drink Libya, Beer: 0, Spirit: 0, Wine: 0, Alcohol: 0.0, Continent: AF>\n",
            "<Drink Lithuania, Beer: 343, Spirit: 244, Wine: 56, Alcohol: 12.9, Continent: EU>\n",
            "<Drink Luxembourg, Beer: 236, Spirit: 133, Wine: 271, Alcohol: 11.4, Continent: EU>\n",
            "<Drink Madagascar, Beer: 26, Spirit: 15, Wine: 4, Alcohol: 0.8, Continent: AF>\n",
            "<Drink Malawi, Beer: 8, Spirit: 11, Wine: 1, Alcohol: 1.5, Continent: AF>\n",
            "<Drink Malaysia, Beer: 13, Spirit: 4, Wine: 0, Alcohol: 0.3, Continent: AS>\n",
            "<Drink Maldives, Beer: 0, Spirit: 0, Wine: 0, Alcohol: 0.0, Continent: AS>\n",
            "<Drink Mali, Beer: 5, Spirit: 1, Wine: 1, Alcohol: 0.6, Continent: AF>\n",
            "<Drink Malta, Beer: 149, Spirit: 100, Wine: 120, Alcohol: 6.6, Continent: EU>\n",
            "<Drink Marshall Islands, Beer: 0, Spirit: 0, Wine: 0, Alcohol: 0.0, Continent: OC>\n",
            "<Drink Mauritania, Beer: 0, Spirit: 0, Wine: 0, Alcohol: 0.0, Continent: AF>\n",
            "<Drink Mauritius, Beer: 98, Spirit: 31, Wine: 18, Alcohol: 2.6, Continent: AF>\n",
            "<Drink Mexico, Beer: 238, Spirit: 68, Wine: 5, Alcohol: 5.5, Continent: None>\n",
            "<Drink Micronesia, Beer: 62, Spirit: 50, Wine: 18, Alcohol: 2.3, Continent: OC>\n",
            "<Drink Monaco, Beer: 0, Spirit: 0, Wine: 0, Alcohol: 0.0, Continent: EU>\n",
            "<Drink Mongolia, Beer: 77, Spirit: 189, Wine: 8, Alcohol: 4.9, Continent: AS>\n",
            "<Drink Montenegro, Beer: 31, Spirit: 114, Wine: 128, Alcohol: 4.9, Continent: EU>\n",
            "<Drink Morocco, Beer: 12, Spirit: 6, Wine: 10, Alcohol: 0.5, Continent: AF>\n",
            "<Drink Mozambique, Beer: 47, Spirit: 18, Wine: 5, Alcohol: 1.3, Continent: AF>\n",
            "<Drink Myanmar, Beer: 5, Spirit: 1, Wine: 0, Alcohol: 0.1, Continent: AS>\n",
            "<Drink Namibia, Beer: 376, Spirit: 3, Wine: 1, Alcohol: 6.8, Continent: AF>\n",
            "<Drink Nauru, Beer: 49, Spirit: 0, Wine: 8, Alcohol: 1.0, Continent: OC>\n",
            "<Drink Nepal, Beer: 5, Spirit: 6, Wine: 0, Alcohol: 0.2, Continent: AS>\n",
            "<Drink Netherlands, Beer: 251, Spirit: 88, Wine: 190, Alcohol: 9.4, Continent: EU>\n",
            "<Drink New Zealand, Beer: 203, Spirit: 79, Wine: 175, Alcohol: 9.3, Continent: OC>\n",
            "<Drink Nicaragua, Beer: 78, Spirit: 118, Wine: 1, Alcohol: 3.5, Continent: None>\n",
            "<Drink Niger, Beer: 3, Spirit: 2, Wine: 1, Alcohol: 0.1, Continent: AF>\n",
            "<Drink Nigeria, Beer: 42, Spirit: 5, Wine: 2, Alcohol: 9.1, Continent: AF>\n",
            "<Drink Niue, Beer: 188, Spirit: 200, Wine: 7, Alcohol: 7.0, Continent: OC>\n",
            "<Drink Norway, Beer: 169, Spirit: 71, Wine: 129, Alcohol: 6.7, Continent: EU>\n",
            "<Drink Oman, Beer: 22, Spirit: 16, Wine: 1, Alcohol: 0.7, Continent: AS>\n",
            "<Drink Pakistan, Beer: 0, Spirit: 0, Wine: 0, Alcohol: 0.0, Continent: AS>\n",
            "<Drink Palau, Beer: 306, Spirit: 63, Wine: 23, Alcohol: 6.9, Continent: OC>\n",
            "<Drink Panama, Beer: 285, Spirit: 104, Wine: 18, Alcohol: 7.2, Continent: None>\n",
            "<Drink Papua New Guinea, Beer: 44, Spirit: 39, Wine: 1, Alcohol: 1.5, Continent: OC>\n",
            "<Drink Paraguay, Beer: 213, Spirit: 117, Wine: 74, Alcohol: 7.3, Continent: SA>\n",
            "<Drink Peru, Beer: 163, Spirit: 160, Wine: 21, Alcohol: 6.1, Continent: SA>\n",
            "<Drink Philippines, Beer: 71, Spirit: 186, Wine: 1, Alcohol: 4.6, Continent: AS>\n",
            "<Drink Poland, Beer: 343, Spirit: 215, Wine: 56, Alcohol: 10.9, Continent: EU>\n",
            "<Drink Portugal, Beer: 194, Spirit: 67, Wine: 339, Alcohol: 11.0, Continent: EU>\n",
            "<Drink Qatar, Beer: 1, Spirit: 42, Wine: 7, Alcohol: 0.9, Continent: AS>\n",
            "<Drink South Korea, Beer: 140, Spirit: 16, Wine: 9, Alcohol: 9.8, Continent: AS>\n",
            "<Drink Moldova, Beer: 109, Spirit: 226, Wine: 18, Alcohol: 6.3, Continent: EU>\n",
            "<Drink Romania, Beer: 297, Spirit: 122, Wine: 167, Alcohol: 10.4, Continent: EU>\n",
            "<Drink Russian Federation, Beer: 247, Spirit: 326, Wine: 73, Alcohol: 11.5, Continent: AS>\n",
            "<Drink Rwanda, Beer: 43, Spirit: 2, Wine: 0, Alcohol: 6.8, Continent: AF>\n",
            "<Drink St. Kitts & Nevis, Beer: 194, Spirit: 205, Wine: 32, Alcohol: 7.7, Continent: None>\n",
            "<Drink St. Lucia, Beer: 171, Spirit: 315, Wine: 71, Alcohol: 10.1, Continent: None>\n",
            "<Drink St. Vincent & the Grenadines, Beer: 120, Spirit: 221, Wine: 11, Alcohol: 6.3, Continent: None>\n",
            "<Drink Samoa, Beer: 105, Spirit: 18, Wine: 24, Alcohol: 2.6, Continent: OC>\n",
            "<Drink San Marino, Beer: 0, Spirit: 0, Wine: 0, Alcohol: 0.0, Continent: EU>\n",
            "<Drink Sao Tome & Principe, Beer: 56, Spirit: 38, Wine: 140, Alcohol: 4.2, Continent: AF>\n",
            "<Drink Saudi Arabia, Beer: 0, Spirit: 5, Wine: 0, Alcohol: 0.1, Continent: AS>\n",
            "<Drink Senegal, Beer: 9, Spirit: 1, Wine: 7, Alcohol: 0.3, Continent: AF>\n",
            "<Drink Serbia, Beer: 283, Spirit: 131, Wine: 127, Alcohol: 9.6, Continent: EU>\n",
            "<Drink Seychelles, Beer: 157, Spirit: 25, Wine: 51, Alcohol: 4.1, Continent: AF>\n",
            "<Drink Sierra Leone, Beer: 25, Spirit: 3, Wine: 2, Alcohol: 6.7, Continent: AF>\n",
            "<Drink Singapore, Beer: 60, Spirit: 12, Wine: 11, Alcohol: 1.5, Continent: AS>\n",
            "<Drink Slovakia, Beer: 196, Spirit: 293, Wine: 116, Alcohol: 11.4, Continent: EU>\n",
            "<Drink Slovenia, Beer: 270, Spirit: 51, Wine: 276, Alcohol: 10.6, Continent: EU>\n",
            "<Drink Solomon Islands, Beer: 56, Spirit: 11, Wine: 1, Alcohol: 1.2, Continent: OC>\n",
            "<Drink Somalia, Beer: 0, Spirit: 0, Wine: 0, Alcohol: 0.0, Continent: AF>\n",
            "<Drink South Africa, Beer: 225, Spirit: 76, Wine: 81, Alcohol: 8.2, Continent: AF>\n",
            "<Drink Spain, Beer: 284, Spirit: 157, Wine: 112, Alcohol: 10.0, Continent: EU>\n",
            "<Drink Sri Lanka, Beer: 16, Spirit: 104, Wine: 0, Alcohol: 2.2, Continent: AS>\n",
            "<Drink Sudan, Beer: 8, Spirit: 13, Wine: 0, Alcohol: 1.7, Continent: AF>\n",
            "<Drink Suriname, Beer: 128, Spirit: 178, Wine: 7, Alcohol: 5.6, Continent: SA>\n",
            "<Drink Swaziland, Beer: 90, Spirit: 2, Wine: 2, Alcohol: 4.7, Continent: AF>\n",
            "<Drink Sweden, Beer: 152, Spirit: 60, Wine: 186, Alcohol: 7.2, Continent: EU>\n",
            "<Drink Switzerland, Beer: 185, Spirit: 100, Wine: 280, Alcohol: 10.2, Continent: EU>\n",
            "<Drink Syria, Beer: 5, Spirit: 35, Wine: 16, Alcohol: 1.0, Continent: AS>\n",
            "<Drink Tajikistan, Beer: 2, Spirit: 15, Wine: 0, Alcohol: 0.3, Continent: AS>\n",
            "<Drink Thailand, Beer: 99, Spirit: 258, Wine: 1, Alcohol: 6.4, Continent: AS>\n",
            "<Drink Macedonia, Beer: 106, Spirit: 27, Wine: 86, Alcohol: 3.9, Continent: EU>\n",
            "<Drink Timor-Leste, Beer: 1, Spirit: 1, Wine: 4, Alcohol: 0.1, Continent: AS>\n",
            "<Drink Togo, Beer: 36, Spirit: 2, Wine: 19, Alcohol: 1.3, Continent: AF>\n",
            "<Drink Tonga, Beer: 36, Spirit: 21, Wine: 5, Alcohol: 1.1, Continent: OC>\n",
            "<Drink Trinidad & Tobago, Beer: 197, Spirit: 156, Wine: 7, Alcohol: 6.4, Continent: None>\n",
            "<Drink Tunisia, Beer: 51, Spirit: 3, Wine: 20, Alcohol: 1.3, Continent: AF>\n",
            "<Drink Turkey, Beer: 51, Spirit: 22, Wine: 7, Alcohol: 1.4, Continent: AS>\n",
            "<Drink Turkmenistan, Beer: 19, Spirit: 71, Wine: 32, Alcohol: 2.2, Continent: AS>\n",
            "<Drink Tuvalu, Beer: 6, Spirit: 41, Wine: 9, Alcohol: 1.0, Continent: OC>\n",
            "<Drink Uganda, Beer: 45, Spirit: 9, Wine: 0, Alcohol: 8.3, Continent: AF>\n",
            "<Drink Ukraine, Beer: 206, Spirit: 237, Wine: 45, Alcohol: 8.9, Continent: EU>\n",
            "<Drink United Arab Emirates, Beer: 16, Spirit: 135, Wine: 5, Alcohol: 2.8, Continent: AS>\n",
            "<Drink United Kingdom, Beer: 219, Spirit: 126, Wine: 195, Alcohol: 10.4, Continent: EU>\n",
            "<Drink Tanzania, Beer: 36, Spirit: 6, Wine: 1, Alcohol: 5.7, Continent: AF>\n",
            "<Drink USA, Beer: 249, Spirit: 158, Wine: 84, Alcohol: 8.7, Continent: None>\n",
            "<Drink Uruguay, Beer: 115, Spirit: 35, Wine: 220, Alcohol: 6.6, Continent: SA>\n",
            "<Drink Uzbekistan, Beer: 25, Spirit: 101, Wine: 8, Alcohol: 2.4, Continent: AS>\n",
            "<Drink Vanuatu, Beer: 21, Spirit: 18, Wine: 11, Alcohol: 0.9, Continent: OC>\n",
            "<Drink Venezuela, Beer: 333, Spirit: 100, Wine: 3, Alcohol: 7.7, Continent: SA>\n",
            "<Drink Vietnam, Beer: 111, Spirit: 2, Wine: 1, Alcohol: 2.0, Continent: AS>\n",
            "<Drink Yemen, Beer: 6, Spirit: 0, Wine: 0, Alcohol: 0.1, Continent: AS>\n",
            "<Drink Zambia, Beer: 32, Spirit: 19, Wine: 4, Alcohol: 2.5, Continent: AF>\n",
            "<Drink Zimbabwe, Beer: 64, Spirit: 18, Wine: 4, Alcohol: 4.7, Continent: AF>\n"
          ]
        }
      ]
    },
    {
      "cell_type": "code",
      "source": [
        "for drink in session.query(Drink).filter(Drink.beer_servings > 10):\n",
        "    print(drink)\n"
      ],
      "metadata": {
        "colab": {
          "base_uri": "https://localhost:8080/"
        },
        "id": "CTavytlm3qbU",
        "outputId": "7d6f34ca-402a-4c02-8104-70b247f248ff"
      },
      "execution_count": 25,
      "outputs": [
        {
          "output_type": "stream",
          "name": "stdout",
          "text": [
            "<Drink Albania, Beer: 89, Spirit: 132, Wine: 54, Alcohol: 4.9, Continent: EU>\n",
            "<Drink Algeria, Beer: 25, Spirit: 0, Wine: 14, Alcohol: 0.7, Continent: AF>\n",
            "<Drink Andorra, Beer: 245, Spirit: 138, Wine: 312, Alcohol: 12.4, Continent: EU>\n",
            "<Drink Angola, Beer: 217, Spirit: 57, Wine: 45, Alcohol: 5.9, Continent: AF>\n",
            "<Drink Antigua & Barbuda, Beer: 102, Spirit: 128, Wine: 45, Alcohol: 4.9, Continent: None>\n",
            "<Drink Argentina, Beer: 193, Spirit: 25, Wine: 221, Alcohol: 8.3, Continent: SA>\n",
            "<Drink Armenia, Beer: 21, Spirit: 179, Wine: 11, Alcohol: 3.8, Continent: EU>\n",
            "<Drink Australia, Beer: 261, Spirit: 72, Wine: 212, Alcohol: 10.4, Continent: OC>\n",
            "<Drink Austria, Beer: 279, Spirit: 75, Wine: 191, Alcohol: 9.7, Continent: EU>\n",
            "<Drink Azerbaijan, Beer: 21, Spirit: 46, Wine: 5, Alcohol: 1.3, Continent: EU>\n",
            "<Drink Bahamas, Beer: 122, Spirit: 176, Wine: 51, Alcohol: 6.3, Continent: None>\n",
            "<Drink Bahrain, Beer: 42, Spirit: 63, Wine: 7, Alcohol: 2.0, Continent: AS>\n",
            "<Drink Barbados, Beer: 143, Spirit: 173, Wine: 36, Alcohol: 6.3, Continent: None>\n",
            "<Drink Belarus, Beer: 142, Spirit: 373, Wine: 42, Alcohol: 14.4, Continent: EU>\n",
            "<Drink Belgium, Beer: 295, Spirit: 84, Wine: 212, Alcohol: 10.5, Continent: EU>\n",
            "<Drink Belize, Beer: 263, Spirit: 114, Wine: 8, Alcohol: 6.8, Continent: None>\n",
            "<Drink Benin, Beer: 34, Spirit: 4, Wine: 13, Alcohol: 1.1, Continent: AF>\n",
            "<Drink Bhutan, Beer: 23, Spirit: 0, Wine: 0, Alcohol: 0.4, Continent: AS>\n",
            "<Drink Bolivia, Beer: 167, Spirit: 41, Wine: 8, Alcohol: 3.8, Continent: SA>\n",
            "<Drink Bosnia-Herzegovina, Beer: 76, Spirit: 173, Wine: 8, Alcohol: 4.6, Continent: EU>\n",
            "<Drink Botswana, Beer: 173, Spirit: 35, Wine: 35, Alcohol: 5.4, Continent: AF>\n",
            "<Drink Brazil, Beer: 245, Spirit: 145, Wine: 16, Alcohol: 7.2, Continent: SA>\n",
            "<Drink Brunei, Beer: 31, Spirit: 2, Wine: 1, Alcohol: 0.6, Continent: AS>\n",
            "<Drink Bulgaria, Beer: 231, Spirit: 252, Wine: 94, Alcohol: 10.3, Continent: EU>\n",
            "<Drink Burkina Faso, Beer: 25, Spirit: 7, Wine: 7, Alcohol: 4.3, Continent: AF>\n",
            "<Drink Burundi, Beer: 88, Spirit: 0, Wine: 0, Alcohol: 6.3, Continent: AF>\n",
            "<Drink Cote d'Ivoire, Beer: 37, Spirit: 1, Wine: 7, Alcohol: 4.0, Continent: AF>\n",
            "<Drink Cabo Verde, Beer: 144, Spirit: 56, Wine: 16, Alcohol: 4.0, Continent: AF>\n",
            "<Drink Cambodia, Beer: 57, Spirit: 65, Wine: 1, Alcohol: 2.2, Continent: AS>\n",
            "<Drink Cameroon, Beer: 147, Spirit: 1, Wine: 4, Alcohol: 5.8, Continent: AF>\n",
            "<Drink Canada, Beer: 240, Spirit: 122, Wine: 100, Alcohol: 8.2, Continent: None>\n",
            "<Drink Central African Republic, Beer: 17, Spirit: 2, Wine: 1, Alcohol: 1.8, Continent: AF>\n",
            "<Drink Chad, Beer: 15, Spirit: 1, Wine: 1, Alcohol: 0.4, Continent: AF>\n",
            "<Drink Chile, Beer: 130, Spirit: 124, Wine: 172, Alcohol: 7.6, Continent: SA>\n",
            "<Drink China, Beer: 79, Spirit: 192, Wine: 8, Alcohol: 5.0, Continent: AS>\n",
            "<Drink Colombia, Beer: 159, Spirit: 76, Wine: 3, Alcohol: 4.2, Continent: SA>\n",
            "<Drink Congo, Beer: 76, Spirit: 1, Wine: 9, Alcohol: 1.7, Continent: AF>\n",
            "<Drink Costa Rica, Beer: 149, Spirit: 87, Wine: 11, Alcohol: 4.4, Continent: None>\n",
            "<Drink Croatia, Beer: 230, Spirit: 87, Wine: 254, Alcohol: 10.2, Continent: EU>\n",
            "<Drink Cuba, Beer: 93, Spirit: 137, Wine: 5, Alcohol: 4.2, Continent: None>\n",
            "<Drink Cyprus, Beer: 192, Spirit: 154, Wine: 113, Alcohol: 8.2, Continent: EU>\n",
            "<Drink Czech Republic, Beer: 361, Spirit: 170, Wine: 134, Alcohol: 11.8, Continent: EU>\n",
            "<Drink DR Congo, Beer: 32, Spirit: 3, Wine: 1, Alcohol: 2.3, Continent: AF>\n",
            "<Drink Denmark, Beer: 224, Spirit: 81, Wine: 278, Alcohol: 10.4, Continent: EU>\n",
            "<Drink Djibouti, Beer: 15, Spirit: 44, Wine: 3, Alcohol: 1.1, Continent: AF>\n",
            "<Drink Dominica, Beer: 52, Spirit: 286, Wine: 26, Alcohol: 6.6, Continent: None>\n",
            "<Drink Dominican Republic, Beer: 193, Spirit: 147, Wine: 9, Alcohol: 6.2, Continent: None>\n",
            "<Drink Ecuador, Beer: 162, Spirit: 74, Wine: 3, Alcohol: 4.2, Continent: SA>\n",
            "<Drink El Salvador, Beer: 52, Spirit: 69, Wine: 2, Alcohol: 2.2, Continent: None>\n",
            "<Drink Equatorial Guinea, Beer: 92, Spirit: 0, Wine: 233, Alcohol: 5.8, Continent: AF>\n",
            "<Drink Eritrea, Beer: 18, Spirit: 0, Wine: 0, Alcohol: 0.5, Continent: AF>\n",
            "<Drink Estonia, Beer: 224, Spirit: 194, Wine: 59, Alcohol: 9.5, Continent: EU>\n",
            "<Drink Ethiopia, Beer: 20, Spirit: 3, Wine: 0, Alcohol: 0.7, Continent: AF>\n",
            "<Drink Fiji, Beer: 77, Spirit: 35, Wine: 1, Alcohol: 2.0, Continent: OC>\n",
            "<Drink Finland, Beer: 263, Spirit: 133, Wine: 97, Alcohol: 10.0, Continent: EU>\n",
            "<Drink France, Beer: 127, Spirit: 151, Wine: 370, Alcohol: 11.8, Continent: EU>\n",
            "<Drink Gabon, Beer: 347, Spirit: 98, Wine: 59, Alcohol: 8.9, Continent: AF>\n",
            "<Drink Georgia, Beer: 52, Spirit: 100, Wine: 149, Alcohol: 5.4, Continent: EU>\n",
            "<Drink Germany, Beer: 346, Spirit: 117, Wine: 175, Alcohol: 11.3, Continent: EU>\n",
            "<Drink Ghana, Beer: 31, Spirit: 3, Wine: 10, Alcohol: 1.8, Continent: AF>\n",
            "<Drink Greece, Beer: 133, Spirit: 112, Wine: 218, Alcohol: 8.3, Continent: EU>\n",
            "<Drink Grenada, Beer: 199, Spirit: 438, Wine: 28, Alcohol: 11.9, Continent: None>\n",
            "<Drink Guatemala, Beer: 53, Spirit: 69, Wine: 2, Alcohol: 2.2, Continent: None>\n",
            "<Drink Guinea-Bissau, Beer: 28, Spirit: 31, Wine: 21, Alcohol: 2.5, Continent: AF>\n",
            "<Drink Guyana, Beer: 93, Spirit: 302, Wine: 1, Alcohol: 7.1, Continent: SA>\n",
            "<Drink Honduras, Beer: 69, Spirit: 98, Wine: 2, Alcohol: 3.0, Continent: None>\n",
            "<Drink Hungary, Beer: 234, Spirit: 215, Wine: 185, Alcohol: 11.3, Continent: EU>\n",
            "<Drink Iceland, Beer: 233, Spirit: 61, Wine: 78, Alcohol: 6.6, Continent: EU>\n",
            "<Drink Ireland, Beer: 313, Spirit: 118, Wine: 165, Alcohol: 11.4, Continent: EU>\n",
            "<Drink Israel, Beer: 63, Spirit: 69, Wine: 9, Alcohol: 2.5, Continent: AS>\n",
            "<Drink Italy, Beer: 85, Spirit: 42, Wine: 237, Alcohol: 6.5, Continent: EU>\n",
            "<Drink Jamaica, Beer: 82, Spirit: 97, Wine: 9, Alcohol: 3.4, Continent: None>\n",
            "<Drink Japan, Beer: 77, Spirit: 202, Wine: 16, Alcohol: 7.0, Continent: AS>\n",
            "<Drink Kazakhstan, Beer: 124, Spirit: 246, Wine: 12, Alcohol: 6.8, Continent: AS>\n",
            "<Drink Kenya, Beer: 58, Spirit: 22, Wine: 2, Alcohol: 1.8, Continent: AF>\n",
            "<Drink Kiribati, Beer: 21, Spirit: 34, Wine: 1, Alcohol: 1.0, Continent: OC>\n",
            "<Drink Kyrgyzstan, Beer: 31, Spirit: 97, Wine: 6, Alcohol: 2.4, Continent: AS>\n",
            "<Drink Laos, Beer: 62, Spirit: 0, Wine: 123, Alcohol: 6.2, Continent: AS>\n",
            "<Drink Latvia, Beer: 281, Spirit: 216, Wine: 62, Alcohol: 10.5, Continent: EU>\n",
            "<Drink Lebanon, Beer: 20, Spirit: 55, Wine: 31, Alcohol: 1.9, Continent: AS>\n",
            "<Drink Lesotho, Beer: 82, Spirit: 29, Wine: 0, Alcohol: 2.8, Continent: AF>\n",
            "<Drink Liberia, Beer: 19, Spirit: 152, Wine: 2, Alcohol: 3.1, Continent: AF>\n",
            "<Drink Lithuania, Beer: 343, Spirit: 244, Wine: 56, Alcohol: 12.9, Continent: EU>\n",
            "<Drink Luxembourg, Beer: 236, Spirit: 133, Wine: 271, Alcohol: 11.4, Continent: EU>\n",
            "<Drink Madagascar, Beer: 26, Spirit: 15, Wine: 4, Alcohol: 0.8, Continent: AF>\n",
            "<Drink Malaysia, Beer: 13, Spirit: 4, Wine: 0, Alcohol: 0.3, Continent: AS>\n",
            "<Drink Malta, Beer: 149, Spirit: 100, Wine: 120, Alcohol: 6.6, Continent: EU>\n",
            "<Drink Mauritius, Beer: 98, Spirit: 31, Wine: 18, Alcohol: 2.6, Continent: AF>\n",
            "<Drink Mexico, Beer: 238, Spirit: 68, Wine: 5, Alcohol: 5.5, Continent: None>\n",
            "<Drink Micronesia, Beer: 62, Spirit: 50, Wine: 18, Alcohol: 2.3, Continent: OC>\n",
            "<Drink Mongolia, Beer: 77, Spirit: 189, Wine: 8, Alcohol: 4.9, Continent: AS>\n",
            "<Drink Montenegro, Beer: 31, Spirit: 114, Wine: 128, Alcohol: 4.9, Continent: EU>\n",
            "<Drink Morocco, Beer: 12, Spirit: 6, Wine: 10, Alcohol: 0.5, Continent: AF>\n",
            "<Drink Mozambique, Beer: 47, Spirit: 18, Wine: 5, Alcohol: 1.3, Continent: AF>\n",
            "<Drink Namibia, Beer: 376, Spirit: 3, Wine: 1, Alcohol: 6.8, Continent: AF>\n",
            "<Drink Nauru, Beer: 49, Spirit: 0, Wine: 8, Alcohol: 1.0, Continent: OC>\n",
            "<Drink Netherlands, Beer: 251, Spirit: 88, Wine: 190, Alcohol: 9.4, Continent: EU>\n",
            "<Drink New Zealand, Beer: 203, Spirit: 79, Wine: 175, Alcohol: 9.3, Continent: OC>\n",
            "<Drink Nicaragua, Beer: 78, Spirit: 118, Wine: 1, Alcohol: 3.5, Continent: None>\n",
            "<Drink Nigeria, Beer: 42, Spirit: 5, Wine: 2, Alcohol: 9.1, Continent: AF>\n",
            "<Drink Niue, Beer: 188, Spirit: 200, Wine: 7, Alcohol: 7.0, Continent: OC>\n",
            "<Drink Norway, Beer: 169, Spirit: 71, Wine: 129, Alcohol: 6.7, Continent: EU>\n",
            "<Drink Oman, Beer: 22, Spirit: 16, Wine: 1, Alcohol: 0.7, Continent: AS>\n",
            "<Drink Palau, Beer: 306, Spirit: 63, Wine: 23, Alcohol: 6.9, Continent: OC>\n",
            "<Drink Panama, Beer: 285, Spirit: 104, Wine: 18, Alcohol: 7.2, Continent: None>\n",
            "<Drink Papua New Guinea, Beer: 44, Spirit: 39, Wine: 1, Alcohol: 1.5, Continent: OC>\n",
            "<Drink Paraguay, Beer: 213, Spirit: 117, Wine: 74, Alcohol: 7.3, Continent: SA>\n",
            "<Drink Peru, Beer: 163, Spirit: 160, Wine: 21, Alcohol: 6.1, Continent: SA>\n",
            "<Drink Philippines, Beer: 71, Spirit: 186, Wine: 1, Alcohol: 4.6, Continent: AS>\n",
            "<Drink Poland, Beer: 343, Spirit: 215, Wine: 56, Alcohol: 10.9, Continent: EU>\n",
            "<Drink Portugal, Beer: 194, Spirit: 67, Wine: 339, Alcohol: 11.0, Continent: EU>\n",
            "<Drink South Korea, Beer: 140, Spirit: 16, Wine: 9, Alcohol: 9.8, Continent: AS>\n",
            "<Drink Moldova, Beer: 109, Spirit: 226, Wine: 18, Alcohol: 6.3, Continent: EU>\n",
            "<Drink Romania, Beer: 297, Spirit: 122, Wine: 167, Alcohol: 10.4, Continent: EU>\n",
            "<Drink Russian Federation, Beer: 247, Spirit: 326, Wine: 73, Alcohol: 11.5, Continent: AS>\n",
            "<Drink Rwanda, Beer: 43, Spirit: 2, Wine: 0, Alcohol: 6.8, Continent: AF>\n",
            "<Drink St. Kitts & Nevis, Beer: 194, Spirit: 205, Wine: 32, Alcohol: 7.7, Continent: None>\n",
            "<Drink St. Lucia, Beer: 171, Spirit: 315, Wine: 71, Alcohol: 10.1, Continent: None>\n",
            "<Drink St. Vincent & the Grenadines, Beer: 120, Spirit: 221, Wine: 11, Alcohol: 6.3, Continent: None>\n",
            "<Drink Samoa, Beer: 105, Spirit: 18, Wine: 24, Alcohol: 2.6, Continent: OC>\n",
            "<Drink Sao Tome & Principe, Beer: 56, Spirit: 38, Wine: 140, Alcohol: 4.2, Continent: AF>\n",
            "<Drink Serbia, Beer: 283, Spirit: 131, Wine: 127, Alcohol: 9.6, Continent: EU>\n",
            "<Drink Seychelles, Beer: 157, Spirit: 25, Wine: 51, Alcohol: 4.1, Continent: AF>\n",
            "<Drink Sierra Leone, Beer: 25, Spirit: 3, Wine: 2, Alcohol: 6.7, Continent: AF>\n",
            "<Drink Singapore, Beer: 60, Spirit: 12, Wine: 11, Alcohol: 1.5, Continent: AS>\n",
            "<Drink Slovakia, Beer: 196, Spirit: 293, Wine: 116, Alcohol: 11.4, Continent: EU>\n",
            "<Drink Slovenia, Beer: 270, Spirit: 51, Wine: 276, Alcohol: 10.6, Continent: EU>\n",
            "<Drink Solomon Islands, Beer: 56, Spirit: 11, Wine: 1, Alcohol: 1.2, Continent: OC>\n",
            "<Drink South Africa, Beer: 225, Spirit: 76, Wine: 81, Alcohol: 8.2, Continent: AF>\n",
            "<Drink Spain, Beer: 284, Spirit: 157, Wine: 112, Alcohol: 10.0, Continent: EU>\n",
            "<Drink Sri Lanka, Beer: 16, Spirit: 104, Wine: 0, Alcohol: 2.2, Continent: AS>\n",
            "<Drink Suriname, Beer: 128, Spirit: 178, Wine: 7, Alcohol: 5.6, Continent: SA>\n",
            "<Drink Swaziland, Beer: 90, Spirit: 2, Wine: 2, Alcohol: 4.7, Continent: AF>\n",
            "<Drink Sweden, Beer: 152, Spirit: 60, Wine: 186, Alcohol: 7.2, Continent: EU>\n",
            "<Drink Switzerland, Beer: 185, Spirit: 100, Wine: 280, Alcohol: 10.2, Continent: EU>\n",
            "<Drink Thailand, Beer: 99, Spirit: 258, Wine: 1, Alcohol: 6.4, Continent: AS>\n",
            "<Drink Macedonia, Beer: 106, Spirit: 27, Wine: 86, Alcohol: 3.9, Continent: EU>\n",
            "<Drink Togo, Beer: 36, Spirit: 2, Wine: 19, Alcohol: 1.3, Continent: AF>\n",
            "<Drink Tonga, Beer: 36, Spirit: 21, Wine: 5, Alcohol: 1.1, Continent: OC>\n",
            "<Drink Trinidad & Tobago, Beer: 197, Spirit: 156, Wine: 7, Alcohol: 6.4, Continent: None>\n",
            "<Drink Tunisia, Beer: 51, Spirit: 3, Wine: 20, Alcohol: 1.3, Continent: AF>\n",
            "<Drink Turkey, Beer: 51, Spirit: 22, Wine: 7, Alcohol: 1.4, Continent: AS>\n",
            "<Drink Turkmenistan, Beer: 19, Spirit: 71, Wine: 32, Alcohol: 2.2, Continent: AS>\n",
            "<Drink Uganda, Beer: 45, Spirit: 9, Wine: 0, Alcohol: 8.3, Continent: AF>\n",
            "<Drink Ukraine, Beer: 206, Spirit: 237, Wine: 45, Alcohol: 8.9, Continent: EU>\n",
            "<Drink United Arab Emirates, Beer: 16, Spirit: 135, Wine: 5, Alcohol: 2.8, Continent: AS>\n",
            "<Drink United Kingdom, Beer: 219, Spirit: 126, Wine: 195, Alcohol: 10.4, Continent: EU>\n",
            "<Drink Tanzania, Beer: 36, Spirit: 6, Wine: 1, Alcohol: 5.7, Continent: AF>\n",
            "<Drink USA, Beer: 249, Spirit: 158, Wine: 84, Alcohol: 8.7, Continent: None>\n",
            "<Drink Uruguay, Beer: 115, Spirit: 35, Wine: 220, Alcohol: 6.6, Continent: SA>\n",
            "<Drink Uzbekistan, Beer: 25, Spirit: 101, Wine: 8, Alcohol: 2.4, Continent: AS>\n",
            "<Drink Vanuatu, Beer: 21, Spirit: 18, Wine: 11, Alcohol: 0.9, Continent: OC>\n",
            "<Drink Venezuela, Beer: 333, Spirit: 100, Wine: 3, Alcohol: 7.7, Continent: SA>\n",
            "<Drink Vietnam, Beer: 111, Spirit: 2, Wine: 1, Alcohol: 2.0, Continent: AS>\n",
            "<Drink Zambia, Beer: 32, Spirit: 19, Wine: 4, Alcohol: 2.5, Continent: AF>\n",
            "<Drink Zimbabwe, Beer: 64, Spirit: 18, Wine: 4, Alcohol: 4.7, Continent: AF>\n"
          ]
        }
      ]
    },
    {
      "cell_type": "code",
      "source": [
        "results = session.query(Drink.country, Drink.beer_servings).all()\n",
        "for name, content in results:\n",
        "    print(name, content)\n"
      ],
      "metadata": {
        "colab": {
          "base_uri": "https://localhost:8080/"
        },
        "id": "eC8Dw40qG_2J",
        "outputId": "f9791f38-8637-4d1c-ffe3-bc68bd169196"
      },
      "execution_count": 35,
      "outputs": [
        {
          "output_type": "stream",
          "name": "stdout",
          "text": [
            "Afghanistan 0\n",
            "Albania 89\n",
            "Algeria 25\n",
            "Andorra 245\n",
            "Angola 217\n",
            "Antigua & Barbuda 102\n",
            "Argentina 193\n",
            "Armenia 21\n",
            "Australia 261\n",
            "Austria 279\n",
            "Azerbaijan 21\n",
            "Bahamas 122\n",
            "Bahrain 42\n",
            "Bangladesh 0\n",
            "Barbados 143\n",
            "Belarus 142\n",
            "Belgium 295\n",
            "Belize 263\n",
            "Benin 34\n",
            "Bhutan 23\n",
            "Bolivia 167\n",
            "Bosnia-Herzegovina 76\n",
            "Botswana 173\n",
            "Brazil 245\n",
            "Brunei 31\n",
            "Bulgaria 231\n",
            "Burkina Faso 25\n",
            "Burundi 88\n",
            "Cote d'Ivoire 37\n",
            "Cabo Verde 144\n",
            "Cambodia 57\n",
            "Cameroon 147\n",
            "Canada 240\n",
            "Central African Republic 17\n",
            "Chad 15\n",
            "Chile 130\n",
            "China 79\n",
            "Colombia 159\n",
            "Comoros 1\n",
            "Congo 76\n",
            "Cook Islands 0\n",
            "Costa Rica 149\n",
            "Croatia 230\n",
            "Cuba 93\n",
            "Cyprus 192\n",
            "Czech Republic 361\n",
            "North Korea 0\n",
            "DR Congo 32\n",
            "Denmark 224\n",
            "Djibouti 15\n",
            "Dominica 52\n",
            "Dominican Republic 193\n",
            "Ecuador 162\n",
            "Egypt 6\n",
            "El Salvador 52\n",
            "Equatorial Guinea 92\n",
            "Eritrea 18\n",
            "Estonia 224\n",
            "Ethiopia 20\n",
            "Fiji 77\n",
            "Finland 263\n",
            "France 127\n",
            "Gabon 347\n",
            "Gambia 8\n",
            "Georgia 52\n",
            "Germany 346\n",
            "Ghana 31\n",
            "Greece 133\n",
            "Grenada 199\n",
            "Guatemala 53\n",
            "Guinea 9\n",
            "Guinea-Bissau 28\n",
            "Guyana 93\n",
            "Haiti 1\n",
            "Honduras 69\n",
            "Hungary 234\n",
            "Iceland 233\n",
            "India 9\n",
            "Indonesia 5\n",
            "Iran 0\n",
            "Iraq 9\n",
            "Ireland 313\n",
            "Israel 63\n",
            "Italy 85\n",
            "Jamaica 82\n",
            "Japan 77\n",
            "Jordan 6\n",
            "Kazakhstan 124\n",
            "Kenya 58\n",
            "Kiribati 21\n",
            "Kuwait 0\n",
            "Kyrgyzstan 31\n",
            "Laos 62\n",
            "Latvia 281\n",
            "Lebanon 20\n",
            "Lesotho 82\n",
            "Liberia 19\n",
            "Libya 0\n",
            "Lithuania 343\n",
            "Luxembourg 236\n",
            "Madagascar 26\n",
            "Malawi 8\n",
            "Malaysia 13\n",
            "Maldives 0\n",
            "Mali 5\n",
            "Malta 149\n",
            "Marshall Islands 0\n",
            "Mauritania 0\n",
            "Mauritius 98\n",
            "Mexico 238\n",
            "Micronesia 62\n",
            "Monaco 0\n",
            "Mongolia 77\n",
            "Montenegro 31\n",
            "Morocco 12\n",
            "Mozambique 47\n",
            "Myanmar 5\n",
            "Namibia 376\n",
            "Nauru 49\n",
            "Nepal 5\n",
            "Netherlands 251\n",
            "New Zealand 203\n",
            "Nicaragua 78\n",
            "Niger 3\n",
            "Nigeria 42\n",
            "Niue 188\n",
            "Norway 169\n",
            "Oman 22\n",
            "Pakistan 0\n",
            "Palau 306\n",
            "Panama 285\n",
            "Papua New Guinea 44\n",
            "Paraguay 213\n",
            "Peru 163\n",
            "Philippines 71\n",
            "Poland 343\n",
            "Portugal 194\n",
            "Qatar 1\n",
            "South Korea 140\n",
            "Moldova 109\n",
            "Romania 297\n",
            "Russian Federation 247\n",
            "Rwanda 43\n",
            "St. Kitts & Nevis 194\n",
            "St. Lucia 171\n",
            "St. Vincent & the Grenadines 120\n",
            "Samoa 105\n",
            "San Marino 0\n",
            "Sao Tome & Principe 56\n",
            "Saudi Arabia 0\n",
            "Senegal 9\n",
            "Serbia 283\n",
            "Seychelles 157\n",
            "Sierra Leone 25\n",
            "Singapore 60\n",
            "Slovakia 196\n",
            "Slovenia 270\n",
            "Solomon Islands 56\n",
            "Somalia 0\n",
            "South Africa 225\n",
            "Spain 284\n",
            "Sri Lanka 16\n",
            "Sudan 8\n",
            "Suriname 128\n",
            "Swaziland 90\n",
            "Sweden 152\n",
            "Switzerland 185\n",
            "Syria 5\n",
            "Tajikistan 2\n",
            "Thailand 99\n",
            "Macedonia 106\n",
            "Timor-Leste 1\n",
            "Togo 36\n",
            "Tonga 36\n",
            "Trinidad & Tobago 197\n",
            "Tunisia 51\n",
            "Turkey 51\n",
            "Turkmenistan 19\n",
            "Tuvalu 6\n",
            "Uganda 45\n",
            "Ukraine 206\n",
            "United Arab Emirates 16\n",
            "United Kingdom 219\n",
            "Tanzania 36\n",
            "USA 249\n",
            "Uruguay 115\n",
            "Uzbekistan 25\n",
            "Vanuatu 21\n",
            "Venezuela 333\n",
            "Vietnam 111\n",
            "Yemen 6\n",
            "Zambia 32\n",
            "Zimbabwe 64\n"
          ]
        }
      ]
    },
    {
      "cell_type": "markdown",
      "source": [
        "## 2. Basic Iteration of Data"
      ],
      "metadata": {
        "id": "kQtjJ_hR3sy6"
      }
    },
    {
      "cell_type": "code",
      "source": [
        "for drink in session.query(Drink).filter(Drink.country.like('%gen%')):\n",
        "    print(drink)\n"
      ],
      "metadata": {
        "colab": {
          "base_uri": "https://localhost:8080/"
        },
        "id": "kOEjzIi74TdV",
        "outputId": "54a7f7ed-47cd-4462-aeb1-0e35525adc5f"
      },
      "execution_count": 26,
      "outputs": [
        {
          "output_type": "stream",
          "name": "stdout",
          "text": [
            "<Drink Argentina, Beer: 193, Spirit: 25, Wine: 221, Alcohol: 8.3, Continent: SA>\n"
          ]
        }
      ]
    },
    {
      "cell_type": "code",
      "source": [
        "for drink in session.query(Drink).filter(Drink.beer_servings < 50).limit(10):\n",
        "    print(drink)\n"
      ],
      "metadata": {
        "id": "eFEzFlJcHLfO"
      },
      "execution_count": null,
      "outputs": []
    },
    {
      "cell_type": "markdown",
      "source": [
        "## 3. GROUP BY"
      ],
      "metadata": {
        "id": "uYHNXSdHD4XV"
      }
    },
    {
      "cell_type": "code",
      "source": [
        "from sqlalchemy import func\n",
        "\n",
        "for name, count in session.query(Drink.continent, func.count(Drink.id)).group_by(Drink.continent):\n",
        "    print(name, count)\n"
      ],
      "metadata": {
        "colab": {
          "base_uri": "https://localhost:8080/"
        },
        "id": "PrrjCimE_Nzr",
        "outputId": "a84fdb10-72fe-4d50-fd64-e113bbce911b"
      },
      "execution_count": 27,
      "outputs": [
        {
          "output_type": "stream",
          "name": "stdout",
          "text": [
            "None 23\n",
            "SA 12\n",
            "OC 16\n",
            "AS 44\n",
            "AF 53\n",
            "EU 45\n"
          ]
        }
      ]
    },
    {
      "cell_type": "code",
      "source": [
        "for country, avg_wine in session.query(Drink.continent, func.avg(Drink.wine_servings)).group_by(Drink.continent):\n",
        "    print(country, avg_wine)"
      ],
      "metadata": {
        "id": "w3M1h3Dcb9w-"
      },
      "execution_count": null,
      "outputs": []
    },
    {
      "cell_type": "markdown",
      "source": [
        "## 4. Avoid Injection"
      ],
      "metadata": {
        "id": "ZLJFK7s6EIYL"
      }
    },
    {
      "cell_type": "code",
      "source": [
        "query = session.query(Drink).filter(Drink.continent == 'EU')\n",
        "query.all()"
      ],
      "metadata": {
        "colab": {
          "base_uri": "https://localhost:8080/"
        },
        "id": "Deh-ssd6D_KX",
        "outputId": "884c006a-3ed1-4d5a-ba84-dc269810f748"
      },
      "execution_count": 28,
      "outputs": [
        {
          "output_type": "execute_result",
          "data": {
            "text/plain": [
              "[<Drink Albania, Beer: 89, Spirit: 132, Wine: 54, Alcohol: 4.9, Continent: EU>,\n",
              " <Drink Andorra, Beer: 245, Spirit: 138, Wine: 312, Alcohol: 12.4, Continent: EU>,\n",
              " <Drink Armenia, Beer: 21, Spirit: 179, Wine: 11, Alcohol: 3.8, Continent: EU>,\n",
              " <Drink Austria, Beer: 279, Spirit: 75, Wine: 191, Alcohol: 9.7, Continent: EU>,\n",
              " <Drink Azerbaijan, Beer: 21, Spirit: 46, Wine: 5, Alcohol: 1.3, Continent: EU>,\n",
              " <Drink Belarus, Beer: 142, Spirit: 373, Wine: 42, Alcohol: 14.4, Continent: EU>,\n",
              " <Drink Belgium, Beer: 295, Spirit: 84, Wine: 212, Alcohol: 10.5, Continent: EU>,\n",
              " <Drink Bosnia-Herzegovina, Beer: 76, Spirit: 173, Wine: 8, Alcohol: 4.6, Continent: EU>,\n",
              " <Drink Bulgaria, Beer: 231, Spirit: 252, Wine: 94, Alcohol: 10.3, Continent: EU>,\n",
              " <Drink Croatia, Beer: 230, Spirit: 87, Wine: 254, Alcohol: 10.2, Continent: EU>,\n",
              " <Drink Cyprus, Beer: 192, Spirit: 154, Wine: 113, Alcohol: 8.2, Continent: EU>,\n",
              " <Drink Czech Republic, Beer: 361, Spirit: 170, Wine: 134, Alcohol: 11.8, Continent: EU>,\n",
              " <Drink Denmark, Beer: 224, Spirit: 81, Wine: 278, Alcohol: 10.4, Continent: EU>,\n",
              " <Drink Estonia, Beer: 224, Spirit: 194, Wine: 59, Alcohol: 9.5, Continent: EU>,\n",
              " <Drink Finland, Beer: 263, Spirit: 133, Wine: 97, Alcohol: 10.0, Continent: EU>,\n",
              " <Drink France, Beer: 127, Spirit: 151, Wine: 370, Alcohol: 11.8, Continent: EU>,\n",
              " <Drink Georgia, Beer: 52, Spirit: 100, Wine: 149, Alcohol: 5.4, Continent: EU>,\n",
              " <Drink Germany, Beer: 346, Spirit: 117, Wine: 175, Alcohol: 11.3, Continent: EU>,\n",
              " <Drink Greece, Beer: 133, Spirit: 112, Wine: 218, Alcohol: 8.3, Continent: EU>,\n",
              " <Drink Hungary, Beer: 234, Spirit: 215, Wine: 185, Alcohol: 11.3, Continent: EU>,\n",
              " <Drink Iceland, Beer: 233, Spirit: 61, Wine: 78, Alcohol: 6.6, Continent: EU>,\n",
              " <Drink Ireland, Beer: 313, Spirit: 118, Wine: 165, Alcohol: 11.4, Continent: EU>,\n",
              " <Drink Italy, Beer: 85, Spirit: 42, Wine: 237, Alcohol: 6.5, Continent: EU>,\n",
              " <Drink Latvia, Beer: 281, Spirit: 216, Wine: 62, Alcohol: 10.5, Continent: EU>,\n",
              " <Drink Lithuania, Beer: 343, Spirit: 244, Wine: 56, Alcohol: 12.9, Continent: EU>,\n",
              " <Drink Luxembourg, Beer: 236, Spirit: 133, Wine: 271, Alcohol: 11.4, Continent: EU>,\n",
              " <Drink Malta, Beer: 149, Spirit: 100, Wine: 120, Alcohol: 6.6, Continent: EU>,\n",
              " <Drink Monaco, Beer: 0, Spirit: 0, Wine: 0, Alcohol: 0.0, Continent: EU>,\n",
              " <Drink Montenegro, Beer: 31, Spirit: 114, Wine: 128, Alcohol: 4.9, Continent: EU>,\n",
              " <Drink Netherlands, Beer: 251, Spirit: 88, Wine: 190, Alcohol: 9.4, Continent: EU>,\n",
              " <Drink Norway, Beer: 169, Spirit: 71, Wine: 129, Alcohol: 6.7, Continent: EU>,\n",
              " <Drink Poland, Beer: 343, Spirit: 215, Wine: 56, Alcohol: 10.9, Continent: EU>,\n",
              " <Drink Portugal, Beer: 194, Spirit: 67, Wine: 339, Alcohol: 11.0, Continent: EU>,\n",
              " <Drink Moldova, Beer: 109, Spirit: 226, Wine: 18, Alcohol: 6.3, Continent: EU>,\n",
              " <Drink Romania, Beer: 297, Spirit: 122, Wine: 167, Alcohol: 10.4, Continent: EU>,\n",
              " <Drink San Marino, Beer: 0, Spirit: 0, Wine: 0, Alcohol: 0.0, Continent: EU>,\n",
              " <Drink Serbia, Beer: 283, Spirit: 131, Wine: 127, Alcohol: 9.6, Continent: EU>,\n",
              " <Drink Slovakia, Beer: 196, Spirit: 293, Wine: 116, Alcohol: 11.4, Continent: EU>,\n",
              " <Drink Slovenia, Beer: 270, Spirit: 51, Wine: 276, Alcohol: 10.6, Continent: EU>,\n",
              " <Drink Spain, Beer: 284, Spirit: 157, Wine: 112, Alcohol: 10.0, Continent: EU>,\n",
              " <Drink Sweden, Beer: 152, Spirit: 60, Wine: 186, Alcohol: 7.2, Continent: EU>,\n",
              " <Drink Switzerland, Beer: 185, Spirit: 100, Wine: 280, Alcohol: 10.2, Continent: EU>,\n",
              " <Drink Macedonia, Beer: 106, Spirit: 27, Wine: 86, Alcohol: 3.9, Continent: EU>,\n",
              " <Drink Ukraine, Beer: 206, Spirit: 237, Wine: 45, Alcohol: 8.9, Continent: EU>,\n",
              " <Drink United Kingdom, Beer: 219, Spirit: 126, Wine: 195, Alcohol: 10.4, Continent: EU>]"
            ]
          },
          "metadata": {},
          "execution_count": 28
        }
      ]
    },
    {
      "cell_type": "code",
      "source": [
        "beer = 50\n",
        "query = session.query(Drink).filter_by(beer_servings>beer)\n",
        "query.all()"
      ],
      "metadata": {
        "id": "_GUWM8jqcOSW"
      },
      "execution_count": null,
      "outputs": []
    },
    {
      "cell_type": "markdown",
      "source": [
        "## 5. Selecting Specific Columns, Rows, and Limiting/Skipping"
      ],
      "metadata": {
        "id": "Hkga0GeJET_R"
      }
    },
    {
      "cell_type": "code",
      "source": [
        "for drink in session.query(Drink).order_by(Drink.spirit_servings.desc()).limit(5).offset(10):\n",
        "    print(drink)\n"
      ],
      "metadata": {
        "colab": {
          "base_uri": "https://localhost:8080/"
        },
        "id": "-ywJq47uEQTc",
        "outputId": "cca7b4ae-30fa-4abd-fdd4-0e8dd9dd88a7"
      },
      "execution_count": 30,
      "outputs": [
        {
          "output_type": "stream",
          "name": "stdout",
          "text": [
            "<Drink Bulgaria, Beer: 231, Spirit: 252, Wine: 94, Alcohol: 10.3, Continent: EU>\n",
            "<Drink Kazakhstan, Beer: 124, Spirit: 246, Wine: 12, Alcohol: 6.8, Continent: AS>\n",
            "<Drink Lithuania, Beer: 343, Spirit: 244, Wine: 56, Alcohol: 12.9, Continent: EU>\n",
            "<Drink Ukraine, Beer: 206, Spirit: 237, Wine: 45, Alcohol: 8.9, Continent: EU>\n",
            "<Drink Moldova, Beer: 109, Spirit: 226, Wine: 18, Alcohol: 6.3, Continent: EU>\n"
          ]
        }
      ]
    },
    {
      "cell_type": "code",
      "source": [
        "for drink in session.query(Drink.country).filter(Drink.beer_servings > 10).order_by(Drink.spirit_servings.desc()).limit(5).offset(5):\n",
        "    print(drink)"
      ],
      "metadata": {
        "id": "oqbTP4vhcbcU"
      },
      "execution_count": null,
      "outputs": []
    },
    {
      "cell_type": "markdown",
      "source": [
        "## 6. ORDER BY queries"
      ],
      "metadata": {
        "id": "QwJ-bdPXEy_6"
      }
    },
    {
      "cell_type": "code",
      "source": [
        "for drink in session.query(Drink).order_by(Drink.total_litres_of_pure_alcohol.desc(), Drink.country):\n",
        "    print(drink.country, drink.total_litres_of_pure_alcohol)\n"
      ],
      "metadata": {
        "colab": {
          "base_uri": "https://localhost:8080/"
        },
        "id": "QlmzL7TwEbRD",
        "outputId": "bafd46ad-10a9-43be-eb20-cea2ad90f289"
      },
      "execution_count": 32,
      "outputs": [
        {
          "output_type": "stream",
          "name": "stdout",
          "text": [
            "Belarus 14.4\n",
            "Lithuania 12.9\n",
            "Andorra 12.4\n",
            "Grenada 11.9\n",
            "Czech Republic 11.8\n",
            "France 11.8\n",
            "Russian Federation 11.5\n",
            "Ireland 11.4\n",
            "Luxembourg 11.4\n",
            "Slovakia 11.4\n",
            "Germany 11.3\n",
            "Hungary 11.3\n",
            "Portugal 11.0\n",
            "Poland 10.9\n",
            "Slovenia 10.6\n",
            "Belgium 10.5\n",
            "Latvia 10.5\n",
            "Australia 10.4\n",
            "Denmark 10.4\n",
            "Romania 10.4\n",
            "United Kingdom 10.4\n",
            "Bulgaria 10.3\n",
            "Croatia 10.2\n",
            "Switzerland 10.2\n",
            "St. Lucia 10.1\n",
            "Finland 10.0\n",
            "Spain 10.0\n",
            "South Korea 9.8\n",
            "Austria 9.7\n",
            "Serbia 9.6\n",
            "Estonia 9.5\n",
            "Netherlands 9.4\n",
            "New Zealand 9.3\n",
            "Nigeria 9.1\n",
            "Gabon 8.9\n",
            "Ukraine 8.9\n",
            "USA 8.7\n",
            "Argentina 8.3\n",
            "Greece 8.3\n",
            "Uganda 8.3\n",
            "Canada 8.2\n",
            "Cyprus 8.2\n",
            "South Africa 8.2\n",
            "St. Kitts & Nevis 7.7\n",
            "Venezuela 7.7\n",
            "Chile 7.6\n",
            "Paraguay 7.3\n",
            "Brazil 7.2\n",
            "Panama 7.2\n",
            "Sweden 7.2\n",
            "Guyana 7.1\n",
            "Japan 7.0\n",
            "Niue 7.0\n",
            "Palau 6.9\n",
            "Belize 6.8\n",
            "Kazakhstan 6.8\n",
            "Namibia 6.8\n",
            "Rwanda 6.8\n",
            "Norway 6.7\n",
            "Sierra Leone 6.7\n",
            "Dominica 6.6\n",
            "Iceland 6.6\n",
            "Malta 6.6\n",
            "Uruguay 6.6\n",
            "Italy 6.5\n",
            "Thailand 6.4\n",
            "Trinidad & Tobago 6.4\n",
            "Bahamas 6.3\n",
            "Barbados 6.3\n",
            "Burundi 6.3\n",
            "Moldova 6.3\n",
            "St. Vincent & the Grenadines 6.3\n",
            "Dominican Republic 6.2\n",
            "Laos 6.2\n",
            "Peru 6.1\n",
            "Angola 5.9\n",
            "Cook Islands 5.9\n",
            "Haiti 5.9\n",
            "Cameroon 5.8\n",
            "Equatorial Guinea 5.8\n",
            "Tanzania 5.7\n",
            "Suriname 5.6\n",
            "Mexico 5.5\n",
            "Botswana 5.4\n",
            "Georgia 5.4\n",
            "China 5.0\n",
            "Albania 4.9\n",
            "Antigua & Barbuda 4.9\n",
            "Mongolia 4.9\n",
            "Montenegro 4.9\n",
            "Swaziland 4.7\n",
            "Zimbabwe 4.7\n",
            "Bosnia-Herzegovina 4.6\n",
            "Philippines 4.6\n",
            "Costa Rica 4.4\n",
            "Burkina Faso 4.3\n",
            "Colombia 4.2\n",
            "Cuba 4.2\n",
            "Ecuador 4.2\n",
            "Sao Tome & Principe 4.2\n",
            "Seychelles 4.1\n",
            "Cabo Verde 4.0\n",
            "Cote d'Ivoire 4.0\n",
            "Macedonia 3.9\n",
            "Armenia 3.8\n",
            "Bolivia 3.8\n",
            "Nicaragua 3.5\n",
            "Jamaica 3.4\n",
            "Liberia 3.1\n",
            "Honduras 3.0\n",
            "Lesotho 2.8\n",
            "United Arab Emirates 2.8\n",
            "Mauritius 2.6\n",
            "Samoa 2.6\n",
            "Guinea-Bissau 2.5\n",
            "Israel 2.5\n",
            "Zambia 2.5\n",
            "Gambia 2.4\n",
            "Kyrgyzstan 2.4\n",
            "Uzbekistan 2.4\n",
            "DR Congo 2.3\n",
            "Micronesia 2.3\n",
            "Cambodia 2.2\n",
            "El Salvador 2.2\n",
            "Guatemala 2.2\n",
            "India 2.2\n",
            "Sri Lanka 2.2\n",
            "Turkmenistan 2.2\n",
            "Bahrain 2.0\n",
            "Fiji 2.0\n",
            "Vietnam 2.0\n",
            "Lebanon 1.9\n",
            "Central African Republic 1.8\n",
            "Ghana 1.8\n",
            "Kenya 1.8\n",
            "Congo 1.7\n",
            "Sudan 1.7\n",
            "Malawi 1.5\n",
            "Papua New Guinea 1.5\n",
            "Singapore 1.5\n",
            "Turkey 1.4\n",
            "Azerbaijan 1.3\n",
            "Mozambique 1.3\n",
            "Togo 1.3\n",
            "Tunisia 1.3\n",
            "Solomon Islands 1.2\n",
            "Benin 1.1\n",
            "Djibouti 1.1\n",
            "Tonga 1.1\n",
            "Kiribati 1.0\n",
            "Nauru 1.0\n",
            "Syria 1.0\n",
            "Tuvalu 1.0\n",
            "Qatar 0.9\n",
            "Vanuatu 0.9\n",
            "Madagascar 0.8\n",
            "Algeria 0.7\n",
            "Ethiopia 0.7\n",
            "Oman 0.7\n",
            "Brunei 0.6\n",
            "Mali 0.6\n",
            "Eritrea 0.5\n",
            "Jordan 0.5\n",
            "Morocco 0.5\n",
            "Bhutan 0.4\n",
            "Chad 0.4\n",
            "Malaysia 0.3\n",
            "Senegal 0.3\n",
            "Tajikistan 0.3\n",
            "Egypt 0.2\n",
            "Guinea 0.2\n",
            "Iraq 0.2\n",
            "Nepal 0.2\n",
            "Comoros 0.1\n",
            "Indonesia 0.1\n",
            "Myanmar 0.1\n",
            "Niger 0.1\n",
            "Saudi Arabia 0.1\n",
            "Timor-Leste 0.1\n",
            "Yemen 0.1\n",
            "Afghanistan 0.0\n",
            "Bangladesh 0.0\n",
            "Iran 0.0\n",
            "Kuwait 0.0\n",
            "Libya 0.0\n",
            "Maldives 0.0\n",
            "Marshall Islands 0.0\n",
            "Mauritania 0.0\n",
            "Monaco 0.0\n",
            "North Korea 0.0\n",
            "Pakistan 0.0\n",
            "San Marino 0.0\n",
            "Somalia 0.0\n"
          ]
        }
      ]
    },
    {
      "cell_type": "code",
      "source": [],
      "metadata": {
        "id": "PNnCT1i4c4pH"
      },
      "execution_count": null,
      "outputs": []
    },
    {
      "cell_type": "markdown",
      "source": [
        "## 7. Pagination with itertools"
      ],
      "metadata": {
        "id": "ZW3o_mSDFALM"
      }
    },
    {
      "cell_type": "code",
      "source": [
        "from itertools import islice, zip_longest\n",
        "\n",
        "def batched(iterable, n):\n",
        "    \"Batch data into lists of length n. The last batch may be shorter.\"\n",
        "    # batched('ABCDEFG', 3) --> ABC DEF G\n",
        "    it = iter(iterable)\n",
        "    while True:\n",
        "        batch = list(islice(it, n))\n",
        "        if not batch:\n",
        "            return\n",
        "        yield batch\n",
        "\n",
        "\n",
        "query = session.query(Drink).order_by(Drink.country)\n",
        "page_size = 5\n",
        "\n",
        "for page, result in enumerate(batched(query, page_size)):\n",
        "    print(page, result)\n"
      ],
      "metadata": {
        "colab": {
          "base_uri": "https://localhost:8080/"
        },
        "id": "Vk2GvsqpE5SL",
        "outputId": "93b37cb6-4fa1-4364-b5f5-ffff0cd7ded5"
      },
      "execution_count": 34,
      "outputs": [
        {
          "output_type": "stream",
          "name": "stdout",
          "text": [
            "0 [<Drink Afghanistan, Beer: 0, Spirit: 0, Wine: 0, Alcohol: 0.0, Continent: AS>, <Drink Albania, Beer: 89, Spirit: 132, Wine: 54, Alcohol: 4.9, Continent: EU>, <Drink Algeria, Beer: 25, Spirit: 0, Wine: 14, Alcohol: 0.7, Continent: AF>, <Drink Andorra, Beer: 245, Spirit: 138, Wine: 312, Alcohol: 12.4, Continent: EU>, <Drink Angola, Beer: 217, Spirit: 57, Wine: 45, Alcohol: 5.9, Continent: AF>]\n",
            "1 [<Drink Antigua & Barbuda, Beer: 102, Spirit: 128, Wine: 45, Alcohol: 4.9, Continent: None>, <Drink Argentina, Beer: 193, Spirit: 25, Wine: 221, Alcohol: 8.3, Continent: SA>, <Drink Armenia, Beer: 21, Spirit: 179, Wine: 11, Alcohol: 3.8, Continent: EU>, <Drink Australia, Beer: 261, Spirit: 72, Wine: 212, Alcohol: 10.4, Continent: OC>, <Drink Austria, Beer: 279, Spirit: 75, Wine: 191, Alcohol: 9.7, Continent: EU>]\n",
            "2 [<Drink Azerbaijan, Beer: 21, Spirit: 46, Wine: 5, Alcohol: 1.3, Continent: EU>, <Drink Bahamas, Beer: 122, Spirit: 176, Wine: 51, Alcohol: 6.3, Continent: None>, <Drink Bahrain, Beer: 42, Spirit: 63, Wine: 7, Alcohol: 2.0, Continent: AS>, <Drink Bangladesh, Beer: 0, Spirit: 0, Wine: 0, Alcohol: 0.0, Continent: AS>, <Drink Barbados, Beer: 143, Spirit: 173, Wine: 36, Alcohol: 6.3, Continent: None>]\n",
            "3 [<Drink Belarus, Beer: 142, Spirit: 373, Wine: 42, Alcohol: 14.4, Continent: EU>, <Drink Belgium, Beer: 295, Spirit: 84, Wine: 212, Alcohol: 10.5, Continent: EU>, <Drink Belize, Beer: 263, Spirit: 114, Wine: 8, Alcohol: 6.8, Continent: None>, <Drink Benin, Beer: 34, Spirit: 4, Wine: 13, Alcohol: 1.1, Continent: AF>, <Drink Bhutan, Beer: 23, Spirit: 0, Wine: 0, Alcohol: 0.4, Continent: AS>]\n",
            "4 [<Drink Bolivia, Beer: 167, Spirit: 41, Wine: 8, Alcohol: 3.8, Continent: SA>, <Drink Bosnia-Herzegovina, Beer: 76, Spirit: 173, Wine: 8, Alcohol: 4.6, Continent: EU>, <Drink Botswana, Beer: 173, Spirit: 35, Wine: 35, Alcohol: 5.4, Continent: AF>, <Drink Brazil, Beer: 245, Spirit: 145, Wine: 16, Alcohol: 7.2, Continent: SA>, <Drink Brunei, Beer: 31, Spirit: 2, Wine: 1, Alcohol: 0.6, Continent: AS>]\n",
            "5 [<Drink Bulgaria, Beer: 231, Spirit: 252, Wine: 94, Alcohol: 10.3, Continent: EU>, <Drink Burkina Faso, Beer: 25, Spirit: 7, Wine: 7, Alcohol: 4.3, Continent: AF>, <Drink Burundi, Beer: 88, Spirit: 0, Wine: 0, Alcohol: 6.3, Continent: AF>, <Drink Cabo Verde, Beer: 144, Spirit: 56, Wine: 16, Alcohol: 4.0, Continent: AF>, <Drink Cambodia, Beer: 57, Spirit: 65, Wine: 1, Alcohol: 2.2, Continent: AS>]\n",
            "6 [<Drink Cameroon, Beer: 147, Spirit: 1, Wine: 4, Alcohol: 5.8, Continent: AF>, <Drink Canada, Beer: 240, Spirit: 122, Wine: 100, Alcohol: 8.2, Continent: None>, <Drink Central African Republic, Beer: 17, Spirit: 2, Wine: 1, Alcohol: 1.8, Continent: AF>, <Drink Chad, Beer: 15, Spirit: 1, Wine: 1, Alcohol: 0.4, Continent: AF>, <Drink Chile, Beer: 130, Spirit: 124, Wine: 172, Alcohol: 7.6, Continent: SA>]\n",
            "7 [<Drink China, Beer: 79, Spirit: 192, Wine: 8, Alcohol: 5.0, Continent: AS>, <Drink Colombia, Beer: 159, Spirit: 76, Wine: 3, Alcohol: 4.2, Continent: SA>, <Drink Comoros, Beer: 1, Spirit: 3, Wine: 1, Alcohol: 0.1, Continent: AF>, <Drink Congo, Beer: 76, Spirit: 1, Wine: 9, Alcohol: 1.7, Continent: AF>, <Drink Cook Islands, Beer: 0, Spirit: 254, Wine: 74, Alcohol: 5.9, Continent: OC>]\n",
            "8 [<Drink Costa Rica, Beer: 149, Spirit: 87, Wine: 11, Alcohol: 4.4, Continent: None>, <Drink Cote d'Ivoire, Beer: 37, Spirit: 1, Wine: 7, Alcohol: 4.0, Continent: AF>, <Drink Croatia, Beer: 230, Spirit: 87, Wine: 254, Alcohol: 10.2, Continent: EU>, <Drink Cuba, Beer: 93, Spirit: 137, Wine: 5, Alcohol: 4.2, Continent: None>, <Drink Cyprus, Beer: 192, Spirit: 154, Wine: 113, Alcohol: 8.2, Continent: EU>]\n",
            "9 [<Drink Czech Republic, Beer: 361, Spirit: 170, Wine: 134, Alcohol: 11.8, Continent: EU>, <Drink Denmark, Beer: 224, Spirit: 81, Wine: 278, Alcohol: 10.4, Continent: EU>, <Drink Djibouti, Beer: 15, Spirit: 44, Wine: 3, Alcohol: 1.1, Continent: AF>, <Drink Dominica, Beer: 52, Spirit: 286, Wine: 26, Alcohol: 6.6, Continent: None>, <Drink Dominican Republic, Beer: 193, Spirit: 147, Wine: 9, Alcohol: 6.2, Continent: None>]\n",
            "10 [<Drink DR Congo, Beer: 32, Spirit: 3, Wine: 1, Alcohol: 2.3, Continent: AF>, <Drink Ecuador, Beer: 162, Spirit: 74, Wine: 3, Alcohol: 4.2, Continent: SA>, <Drink Egypt, Beer: 6, Spirit: 4, Wine: 1, Alcohol: 0.2, Continent: AF>, <Drink El Salvador, Beer: 52, Spirit: 69, Wine: 2, Alcohol: 2.2, Continent: None>, <Drink Equatorial Guinea, Beer: 92, Spirit: 0, Wine: 233, Alcohol: 5.8, Continent: AF>]\n",
            "11 [<Drink Eritrea, Beer: 18, Spirit: 0, Wine: 0, Alcohol: 0.5, Continent: AF>, <Drink Estonia, Beer: 224, Spirit: 194, Wine: 59, Alcohol: 9.5, Continent: EU>, <Drink Ethiopia, Beer: 20, Spirit: 3, Wine: 0, Alcohol: 0.7, Continent: AF>, <Drink Fiji, Beer: 77, Spirit: 35, Wine: 1, Alcohol: 2.0, Continent: OC>, <Drink Finland, Beer: 263, Spirit: 133, Wine: 97, Alcohol: 10.0, Continent: EU>]\n",
            "12 [<Drink France, Beer: 127, Spirit: 151, Wine: 370, Alcohol: 11.8, Continent: EU>, <Drink Gabon, Beer: 347, Spirit: 98, Wine: 59, Alcohol: 8.9, Continent: AF>, <Drink Gambia, Beer: 8, Spirit: 0, Wine: 1, Alcohol: 2.4, Continent: AF>, <Drink Georgia, Beer: 52, Spirit: 100, Wine: 149, Alcohol: 5.4, Continent: EU>, <Drink Germany, Beer: 346, Spirit: 117, Wine: 175, Alcohol: 11.3, Continent: EU>]\n",
            "13 [<Drink Ghana, Beer: 31, Spirit: 3, Wine: 10, Alcohol: 1.8, Continent: AF>, <Drink Greece, Beer: 133, Spirit: 112, Wine: 218, Alcohol: 8.3, Continent: EU>, <Drink Grenada, Beer: 199, Spirit: 438, Wine: 28, Alcohol: 11.9, Continent: None>, <Drink Guatemala, Beer: 53, Spirit: 69, Wine: 2, Alcohol: 2.2, Continent: None>, <Drink Guinea, Beer: 9, Spirit: 0, Wine: 2, Alcohol: 0.2, Continent: AF>]\n",
            "14 [<Drink Guinea-Bissau, Beer: 28, Spirit: 31, Wine: 21, Alcohol: 2.5, Continent: AF>, <Drink Guyana, Beer: 93, Spirit: 302, Wine: 1, Alcohol: 7.1, Continent: SA>, <Drink Haiti, Beer: 1, Spirit: 326, Wine: 1, Alcohol: 5.9, Continent: None>, <Drink Honduras, Beer: 69, Spirit: 98, Wine: 2, Alcohol: 3.0, Continent: None>, <Drink Hungary, Beer: 234, Spirit: 215, Wine: 185, Alcohol: 11.3, Continent: EU>]\n",
            "15 [<Drink Iceland, Beer: 233, Spirit: 61, Wine: 78, Alcohol: 6.6, Continent: EU>, <Drink India, Beer: 9, Spirit: 114, Wine: 0, Alcohol: 2.2, Continent: AS>, <Drink Indonesia, Beer: 5, Spirit: 1, Wine: 0, Alcohol: 0.1, Continent: AS>, <Drink Iran, Beer: 0, Spirit: 0, Wine: 0, Alcohol: 0.0, Continent: AS>, <Drink Iraq, Beer: 9, Spirit: 3, Wine: 0, Alcohol: 0.2, Continent: AS>]\n",
            "16 [<Drink Ireland, Beer: 313, Spirit: 118, Wine: 165, Alcohol: 11.4, Continent: EU>, <Drink Israel, Beer: 63, Spirit: 69, Wine: 9, Alcohol: 2.5, Continent: AS>, <Drink Italy, Beer: 85, Spirit: 42, Wine: 237, Alcohol: 6.5, Continent: EU>, <Drink Jamaica, Beer: 82, Spirit: 97, Wine: 9, Alcohol: 3.4, Continent: None>, <Drink Japan, Beer: 77, Spirit: 202, Wine: 16, Alcohol: 7.0, Continent: AS>]\n",
            "17 [<Drink Jordan, Beer: 6, Spirit: 21, Wine: 1, Alcohol: 0.5, Continent: AS>, <Drink Kazakhstan, Beer: 124, Spirit: 246, Wine: 12, Alcohol: 6.8, Continent: AS>, <Drink Kenya, Beer: 58, Spirit: 22, Wine: 2, Alcohol: 1.8, Continent: AF>, <Drink Kiribati, Beer: 21, Spirit: 34, Wine: 1, Alcohol: 1.0, Continent: OC>, <Drink Kuwait, Beer: 0, Spirit: 0, Wine: 0, Alcohol: 0.0, Continent: AS>]\n",
            "18 [<Drink Kyrgyzstan, Beer: 31, Spirit: 97, Wine: 6, Alcohol: 2.4, Continent: AS>, <Drink Laos, Beer: 62, Spirit: 0, Wine: 123, Alcohol: 6.2, Continent: AS>, <Drink Latvia, Beer: 281, Spirit: 216, Wine: 62, Alcohol: 10.5, Continent: EU>, <Drink Lebanon, Beer: 20, Spirit: 55, Wine: 31, Alcohol: 1.9, Continent: AS>, <Drink Lesotho, Beer: 82, Spirit: 29, Wine: 0, Alcohol: 2.8, Continent: AF>]\n",
            "19 [<Drink Liberia, Beer: 19, Spirit: 152, Wine: 2, Alcohol: 3.1, Continent: AF>, <Drink Libya, Beer: 0, Spirit: 0, Wine: 0, Alcohol: 0.0, Continent: AF>, <Drink Lithuania, Beer: 343, Spirit: 244, Wine: 56, Alcohol: 12.9, Continent: EU>, <Drink Luxembourg, Beer: 236, Spirit: 133, Wine: 271, Alcohol: 11.4, Continent: EU>, <Drink Macedonia, Beer: 106, Spirit: 27, Wine: 86, Alcohol: 3.9, Continent: EU>]\n",
            "20 [<Drink Madagascar, Beer: 26, Spirit: 15, Wine: 4, Alcohol: 0.8, Continent: AF>, <Drink Malawi, Beer: 8, Spirit: 11, Wine: 1, Alcohol: 1.5, Continent: AF>, <Drink Malaysia, Beer: 13, Spirit: 4, Wine: 0, Alcohol: 0.3, Continent: AS>, <Drink Maldives, Beer: 0, Spirit: 0, Wine: 0, Alcohol: 0.0, Continent: AS>, <Drink Mali, Beer: 5, Spirit: 1, Wine: 1, Alcohol: 0.6, Continent: AF>]\n",
            "21 [<Drink Malta, Beer: 149, Spirit: 100, Wine: 120, Alcohol: 6.6, Continent: EU>, <Drink Marshall Islands, Beer: 0, Spirit: 0, Wine: 0, Alcohol: 0.0, Continent: OC>, <Drink Mauritania, Beer: 0, Spirit: 0, Wine: 0, Alcohol: 0.0, Continent: AF>, <Drink Mauritius, Beer: 98, Spirit: 31, Wine: 18, Alcohol: 2.6, Continent: AF>, <Drink Mexico, Beer: 238, Spirit: 68, Wine: 5, Alcohol: 5.5, Continent: None>]\n",
            "22 [<Drink Micronesia, Beer: 62, Spirit: 50, Wine: 18, Alcohol: 2.3, Continent: OC>, <Drink Moldova, Beer: 109, Spirit: 226, Wine: 18, Alcohol: 6.3, Continent: EU>, <Drink Monaco, Beer: 0, Spirit: 0, Wine: 0, Alcohol: 0.0, Continent: EU>, <Drink Mongolia, Beer: 77, Spirit: 189, Wine: 8, Alcohol: 4.9, Continent: AS>, <Drink Montenegro, Beer: 31, Spirit: 114, Wine: 128, Alcohol: 4.9, Continent: EU>]\n",
            "23 [<Drink Morocco, Beer: 12, Spirit: 6, Wine: 10, Alcohol: 0.5, Continent: AF>, <Drink Mozambique, Beer: 47, Spirit: 18, Wine: 5, Alcohol: 1.3, Continent: AF>, <Drink Myanmar, Beer: 5, Spirit: 1, Wine: 0, Alcohol: 0.1, Continent: AS>, <Drink Namibia, Beer: 376, Spirit: 3, Wine: 1, Alcohol: 6.8, Continent: AF>, <Drink Nauru, Beer: 49, Spirit: 0, Wine: 8, Alcohol: 1.0, Continent: OC>]\n",
            "24 [<Drink Nepal, Beer: 5, Spirit: 6, Wine: 0, Alcohol: 0.2, Continent: AS>, <Drink Netherlands, Beer: 251, Spirit: 88, Wine: 190, Alcohol: 9.4, Continent: EU>, <Drink New Zealand, Beer: 203, Spirit: 79, Wine: 175, Alcohol: 9.3, Continent: OC>, <Drink Nicaragua, Beer: 78, Spirit: 118, Wine: 1, Alcohol: 3.5, Continent: None>, <Drink Niger, Beer: 3, Spirit: 2, Wine: 1, Alcohol: 0.1, Continent: AF>]\n",
            "25 [<Drink Nigeria, Beer: 42, Spirit: 5, Wine: 2, Alcohol: 9.1, Continent: AF>, <Drink Niue, Beer: 188, Spirit: 200, Wine: 7, Alcohol: 7.0, Continent: OC>, <Drink North Korea, Beer: 0, Spirit: 0, Wine: 0, Alcohol: 0.0, Continent: AS>, <Drink Norway, Beer: 169, Spirit: 71, Wine: 129, Alcohol: 6.7, Continent: EU>, <Drink Oman, Beer: 22, Spirit: 16, Wine: 1, Alcohol: 0.7, Continent: AS>]\n",
            "26 [<Drink Pakistan, Beer: 0, Spirit: 0, Wine: 0, Alcohol: 0.0, Continent: AS>, <Drink Palau, Beer: 306, Spirit: 63, Wine: 23, Alcohol: 6.9, Continent: OC>, <Drink Panama, Beer: 285, Spirit: 104, Wine: 18, Alcohol: 7.2, Continent: None>, <Drink Papua New Guinea, Beer: 44, Spirit: 39, Wine: 1, Alcohol: 1.5, Continent: OC>, <Drink Paraguay, Beer: 213, Spirit: 117, Wine: 74, Alcohol: 7.3, Continent: SA>]\n",
            "27 [<Drink Peru, Beer: 163, Spirit: 160, Wine: 21, Alcohol: 6.1, Continent: SA>, <Drink Philippines, Beer: 71, Spirit: 186, Wine: 1, Alcohol: 4.6, Continent: AS>, <Drink Poland, Beer: 343, Spirit: 215, Wine: 56, Alcohol: 10.9, Continent: EU>, <Drink Portugal, Beer: 194, Spirit: 67, Wine: 339, Alcohol: 11.0, Continent: EU>, <Drink Qatar, Beer: 1, Spirit: 42, Wine: 7, Alcohol: 0.9, Continent: AS>]\n",
            "28 [<Drink Romania, Beer: 297, Spirit: 122, Wine: 167, Alcohol: 10.4, Continent: EU>, <Drink Russian Federation, Beer: 247, Spirit: 326, Wine: 73, Alcohol: 11.5, Continent: AS>, <Drink Rwanda, Beer: 43, Spirit: 2, Wine: 0, Alcohol: 6.8, Continent: AF>, <Drink Samoa, Beer: 105, Spirit: 18, Wine: 24, Alcohol: 2.6, Continent: OC>, <Drink San Marino, Beer: 0, Spirit: 0, Wine: 0, Alcohol: 0.0, Continent: EU>]\n",
            "29 [<Drink Sao Tome & Principe, Beer: 56, Spirit: 38, Wine: 140, Alcohol: 4.2, Continent: AF>, <Drink Saudi Arabia, Beer: 0, Spirit: 5, Wine: 0, Alcohol: 0.1, Continent: AS>, <Drink Senegal, Beer: 9, Spirit: 1, Wine: 7, Alcohol: 0.3, Continent: AF>, <Drink Serbia, Beer: 283, Spirit: 131, Wine: 127, Alcohol: 9.6, Continent: EU>, <Drink Seychelles, Beer: 157, Spirit: 25, Wine: 51, Alcohol: 4.1, Continent: AF>]\n",
            "30 [<Drink Sierra Leone, Beer: 25, Spirit: 3, Wine: 2, Alcohol: 6.7, Continent: AF>, <Drink Singapore, Beer: 60, Spirit: 12, Wine: 11, Alcohol: 1.5, Continent: AS>, <Drink Slovakia, Beer: 196, Spirit: 293, Wine: 116, Alcohol: 11.4, Continent: EU>, <Drink Slovenia, Beer: 270, Spirit: 51, Wine: 276, Alcohol: 10.6, Continent: EU>, <Drink Solomon Islands, Beer: 56, Spirit: 11, Wine: 1, Alcohol: 1.2, Continent: OC>]\n",
            "31 [<Drink Somalia, Beer: 0, Spirit: 0, Wine: 0, Alcohol: 0.0, Continent: AF>, <Drink South Africa, Beer: 225, Spirit: 76, Wine: 81, Alcohol: 8.2, Continent: AF>, <Drink South Korea, Beer: 140, Spirit: 16, Wine: 9, Alcohol: 9.8, Continent: AS>, <Drink Spain, Beer: 284, Spirit: 157, Wine: 112, Alcohol: 10.0, Continent: EU>, <Drink Sri Lanka, Beer: 16, Spirit: 104, Wine: 0, Alcohol: 2.2, Continent: AS>]\n",
            "32 [<Drink St. Kitts & Nevis, Beer: 194, Spirit: 205, Wine: 32, Alcohol: 7.7, Continent: None>, <Drink St. Lucia, Beer: 171, Spirit: 315, Wine: 71, Alcohol: 10.1, Continent: None>, <Drink St. Vincent & the Grenadines, Beer: 120, Spirit: 221, Wine: 11, Alcohol: 6.3, Continent: None>, <Drink Sudan, Beer: 8, Spirit: 13, Wine: 0, Alcohol: 1.7, Continent: AF>, <Drink Suriname, Beer: 128, Spirit: 178, Wine: 7, Alcohol: 5.6, Continent: SA>]\n",
            "33 [<Drink Swaziland, Beer: 90, Spirit: 2, Wine: 2, Alcohol: 4.7, Continent: AF>, <Drink Sweden, Beer: 152, Spirit: 60, Wine: 186, Alcohol: 7.2, Continent: EU>, <Drink Switzerland, Beer: 185, Spirit: 100, Wine: 280, Alcohol: 10.2, Continent: EU>, <Drink Syria, Beer: 5, Spirit: 35, Wine: 16, Alcohol: 1.0, Continent: AS>, <Drink Tajikistan, Beer: 2, Spirit: 15, Wine: 0, Alcohol: 0.3, Continent: AS>]\n",
            "34 [<Drink Tanzania, Beer: 36, Spirit: 6, Wine: 1, Alcohol: 5.7, Continent: AF>, <Drink Thailand, Beer: 99, Spirit: 258, Wine: 1, Alcohol: 6.4, Continent: AS>, <Drink Timor-Leste, Beer: 1, Spirit: 1, Wine: 4, Alcohol: 0.1, Continent: AS>, <Drink Togo, Beer: 36, Spirit: 2, Wine: 19, Alcohol: 1.3, Continent: AF>, <Drink Tonga, Beer: 36, Spirit: 21, Wine: 5, Alcohol: 1.1, Continent: OC>]\n",
            "35 [<Drink Trinidad & Tobago, Beer: 197, Spirit: 156, Wine: 7, Alcohol: 6.4, Continent: None>, <Drink Tunisia, Beer: 51, Spirit: 3, Wine: 20, Alcohol: 1.3, Continent: AF>, <Drink Turkey, Beer: 51, Spirit: 22, Wine: 7, Alcohol: 1.4, Continent: AS>, <Drink Turkmenistan, Beer: 19, Spirit: 71, Wine: 32, Alcohol: 2.2, Continent: AS>, <Drink Tuvalu, Beer: 6, Spirit: 41, Wine: 9, Alcohol: 1.0, Continent: OC>]\n",
            "36 [<Drink Uganda, Beer: 45, Spirit: 9, Wine: 0, Alcohol: 8.3, Continent: AF>, <Drink Ukraine, Beer: 206, Spirit: 237, Wine: 45, Alcohol: 8.9, Continent: EU>, <Drink United Arab Emirates, Beer: 16, Spirit: 135, Wine: 5, Alcohol: 2.8, Continent: AS>, <Drink United Kingdom, Beer: 219, Spirit: 126, Wine: 195, Alcohol: 10.4, Continent: EU>, <Drink Uruguay, Beer: 115, Spirit: 35, Wine: 220, Alcohol: 6.6, Continent: SA>]\n",
            "37 [<Drink USA, Beer: 249, Spirit: 158, Wine: 84, Alcohol: 8.7, Continent: None>, <Drink Uzbekistan, Beer: 25, Spirit: 101, Wine: 8, Alcohol: 2.4, Continent: AS>, <Drink Vanuatu, Beer: 21, Spirit: 18, Wine: 11, Alcohol: 0.9, Continent: OC>, <Drink Venezuela, Beer: 333, Spirit: 100, Wine: 3, Alcohol: 7.7, Continent: SA>, <Drink Vietnam, Beer: 111, Spirit: 2, Wine: 1, Alcohol: 2.0, Continent: AS>]\n",
            "38 [<Drink Yemen, Beer: 6, Spirit: 0, Wine: 0, Alcohol: 0.1, Continent: AS>, <Drink Zambia, Beer: 32, Spirit: 19, Wine: 4, Alcohol: 2.5, Continent: AF>, <Drink Zimbabwe, Beer: 64, Spirit: 18, Wine: 4, Alcohol: 4.7, Continent: AF>]\n"
          ]
        }
      ]
    },
    {
      "cell_type": "markdown",
      "source": [],
      "metadata": {
        "id": "X_AGiShTdD5n"
      }
    },
    {
      "cell_type": "markdown",
      "source": [
        "## Setup for JOINs"
      ],
      "metadata": {
        "id": "CXc7FEzNdOKK"
      }
    },
    {
      "cell_type": "code",
      "source": [
        "from sqlalchemy import Table, Column, ForeignKey, Integer, String, Float, MetaData, Table, inspect, text\n",
        "\n",
        "metadata = MetaData()\n",
        "\n",
        "# Inspect the database to check for table existence\n",
        "inspector = inspect(engine)\n",
        "tables = ['dummy_drinks', 'countries', 'drink_reviews', 'drink_ingredients', 'ingredients', f'dummy_drinks_{STUDENT_NAME_TABLE}', f'countries_{STUDENT_NAME_TABLE}', f'drink_reviews_{STUDENT_NAME_TABLE}', f'drink_ingredients_{STUDENT_NAME_TABLE}', f'ingredients_{STUDENT_NAME_TABLE}']\n",
        "for table in tables:\n",
        "   with engine.connect() as connection:\n",
        "      connection.execute(text(f\"DROP TABLE IF EXISTS {table} CASCADE;\"))\n"
      ],
      "metadata": {
        "id": "qAQ6ou8VgYF0"
      },
      "execution_count": 70,
      "outputs": []
    },
    {
      "cell_type": "code",
      "source": [
        "class Country(Base):\n",
        "    __tablename__ = f'countries_{STUDENT_NAME_TABLE}'\n",
        "    id = Column(Integer, primary_key=True)\n",
        "    name = Column(String)\n",
        "\n",
        "class DummyDrink(Base):\n",
        "    __tablename__ = f'dummy_drinks_{STUDENT_NAME_TABLE}'\n",
        "    id = Column(Integer, primary_key=True)\n",
        "    name = Column(String)\n",
        "    alcohol_content = Column(Float)\n",
        "    country_id = Column(Integer, ForeignKey(f'countries_{STUDENT_NAME_TABLE}.id'))\n",
        "    reviews = relationship('DrinkReview', backref='drink')\n",
        "    drink_ingredients = relationship('DrinkIngredient', back_populates='drink')  # Correct relationship name\n",
        "\n",
        "class DrinkReview(Base):\n",
        "    __tablename__ = f'drink_reviews_{STUDENT_NAME_TABLE}'\n",
        "    id = Column(Integer, primary_key=True)\n",
        "    drink_id = Column(Integer, ForeignKey(f'dummy_drinks_{STUDENT_NAME_TABLE}.id'))\n",
        "    review = Column(String)\n",
        "\n",
        "class Ingredient(Base):\n",
        "    __tablename__ = f'ingredients_{STUDENT_NAME_TABLE}'\n",
        "    id = Column(Integer, primary_key=True)\n",
        "    name = Column(String)\n",
        "    drink_ingredients = relationship('DrinkIngredient', back_populates='ingredient')  # Correct relationship name\n",
        "\n",
        "class DrinkIngredient(Base):\n",
        "    __tablename__ = f'drink_ingredients_{STUDENT_NAME_TABLE}'\n",
        "    drink_id = Column(Integer, ForeignKey(f'dummy_drinks_{STUDENT_NAME_TABLE}.id'), primary_key=True)\n",
        "    ingredient_id = Column(Integer, ForeignKey(f'ingredients_{STUDENT_NAME_TABLE}.id'), primary_key=True)\n",
        "    drink = relationship('DummyDrink', back_populates='drink_ingredients')  # Match attribute in DummyDrink\n",
        "    ingredient = relationship('Ingredient', back_populates='drink_ingredients')  # Match attribute in Ingredient\n",
        "\n",
        "\n",
        "Base.metadata.create_all(engine)\n"
      ],
      "metadata": {
        "id": "bnBZ_LuWdQnm"
      },
      "execution_count": 71,
      "outputs": []
    },
    {
      "cell_type": "code",
      "source": [
        "import random\n",
        "# Now populate the tables using the revised model name\n",
        "\n",
        "# Populate Countries\n",
        "countries = ['France', 'Germany', 'Italy', 'Spain', 'USA', 'Canada', 'Japan', 'Mexico', 'Brazil', 'Argentina']\n",
        "for country_name in countries:\n",
        "    country = Country(name=country_name)\n",
        "    session.add(country)\n",
        "session.commit()\n",
        "\n",
        "# Populate Dummy Drinks\n",
        "drink_names = [f'Drink {i}' for i in range(1, 21)]\n",
        "for drink_name in drink_names:\n",
        "    drink = DummyDrink(name=drink_name, alcohol_content=random.uniform(0, 40), country_id=random.randint(1, len(countries)))\n",
        "    session.add(drink)\n",
        "session.commit()\n",
        "\n",
        "# Populate Drink Reviews\n",
        "reviews = ['Good', 'Excellent', 'Fair', 'Poor', 'Great', 'Okay']\n",
        "for _ in range(20):\n",
        "    review = DrinkReview(drink_id=random.randint(1, 20), review=random.choice(reviews))\n",
        "    session.add(review)\n",
        "session.commit()\n",
        "\n",
        "# Populate Ingredients\n",
        "ingredients = ['Water', 'Barley', 'Yeast', 'Hops', 'Rice', 'Corn', 'Sugar', 'Grapes', 'Apple', 'Orange']\n",
        "for ingredient_name in ingredients:\n",
        "    ingredient = Ingredient(name=ingredient_name)\n",
        "    session.add(ingredient)\n",
        "session.commit()\n",
        "\n",
        "# Populate Drink Ingredients Association\n",
        "for drink_id in range(1, 21):\n",
        "    ingredient_ids = random.sample(range(1, 11), k=random.randint(1, 4))\n",
        "    for ingredient_id in ingredient_ids:\n",
        "        assoc = {\n",
        "            \"drink_id\": drink_id,\n",
        "            \"ingredient_id\": ingredient_id\n",
        "        }\n",
        "        session.bulk_insert_mappings(DrinkIngredient, [assoc])\n",
        "\n",
        "session.commit()"
      ],
      "metadata": {
        "id": "6GuxPegCecyb"
      },
      "execution_count": 72,
      "outputs": []
    },
    {
      "cell_type": "markdown",
      "source": [
        "## 8. Left JOIN (1-1)"
      ],
      "metadata": {
        "id": "zcukz3Cic9dX"
      }
    },
    {
      "cell_type": "code",
      "source": [
        "for drink, country in session.query(DummyDrink, Country).join(Country, DummyDrink.country_id == Country.id):\n",
        "    print(drink.name, country.name)"
      ],
      "metadata": {
        "colab": {
          "base_uri": "https://localhost:8080/"
        },
        "id": "vQMz8sElFEzP",
        "outputId": "22c13a7f-e6de-4225-98c6-a8e92668d486"
      },
      "execution_count": 75,
      "outputs": [
        {
          "output_type": "stream",
          "name": "stdout",
          "text": [
            "Drink 1 France\n",
            "Drink 2 Japan\n",
            "Drink 3 USA\n",
            "Drink 4 USA\n",
            "Drink 5 France\n",
            "Drink 6 Argentina\n",
            "Drink 7 Japan\n",
            "Drink 8 Italy\n",
            "Drink 9 France\n",
            "Drink 10 USA\n",
            "Drink 11 USA\n",
            "Drink 12 Italy\n",
            "Drink 13 Canada\n",
            "Drink 14 Germany\n",
            "Drink 15 USA\n",
            "Drink 16 USA\n",
            "Drink 17 Germany\n",
            "Drink 18 Brazil\n",
            "Drink 19 France\n",
            "Drink 20 Mexico\n"
          ]
        }
      ]
    },
    {
      "cell_type": "markdown",
      "source": [
        "## 9. Left JOIN (1-Many)"
      ],
      "metadata": {
        "id": "aLcjwTNim70R"
      }
    },
    {
      "cell_type": "code",
      "source": [
        "for drink, review in session.query(DummyDrink, DrinkReview).join(DrinkReview, DummyDrink.id == DrinkReview.drink_id):\n",
        "    print(drink.name, review.review if review else \"No review\")\n"
      ],
      "metadata": {
        "colab": {
          "base_uri": "https://localhost:8080/"
        },
        "id": "WbpBDVHel7Nw",
        "outputId": "20be00bd-f94d-41e7-b4aa-2b8a79807040"
      },
      "execution_count": 77,
      "outputs": [
        {
          "output_type": "stream",
          "name": "stdout",
          "text": [
            "Drink 4 Fair\n",
            "Drink 9 Poor\n",
            "Drink 15 Great\n",
            "Drink 16 Great\n",
            "Drink 18 Good\n",
            "Drink 17 Great\n",
            "Drink 13 Excellent\n",
            "Drink 1 Good\n",
            "Drink 20 Excellent\n",
            "Drink 3 Good\n",
            "Drink 6 Okay\n",
            "Drink 1 Poor\n",
            "Drink 15 Great\n",
            "Drink 20 Poor\n",
            "Drink 11 Excellent\n",
            "Drink 7 Great\n",
            "Drink 3 Excellent\n",
            "Drink 8 Poor\n",
            "Drink 10 Poor\n",
            "Drink 13 Poor\n"
          ]
        }
      ]
    },
    {
      "cell_type": "markdown",
      "source": [
        "## 10. Left JOIN (Many - Many)"
      ],
      "metadata": {
        "id": "K1I1lvR8nF_8"
      }
    },
    {
      "cell_type": "code",
      "source": [
        "for drink, ingredient in session.query(DummyDrink, Ingredient).\\\n",
        "        join(DrinkIngredient, DummyDrink.id == DrinkIngredient.drink_id).\\\n",
        "        join(Ingredient, DrinkIngredient.ingredient_id == Ingredient.id):\n",
        "    print(drink.name, ingredient.name if ingredient else \"No ingredient\")\n"
      ],
      "metadata": {
        "colab": {
          "base_uri": "https://localhost:8080/"
        },
        "id": "GxEvRUjFnI0d",
        "outputId": "76d954a9-5f6a-4c5d-af49-49bbc59be934"
      },
      "execution_count": 82,
      "outputs": [
        {
          "output_type": "stream",
          "name": "stdout",
          "text": [
            "Drink 1 Hops\n",
            "Drink 2 Yeast\n",
            "Drink 3 Corn\n",
            "Drink 3 Barley\n",
            "Drink 3 Sugar\n",
            "Drink 4 Barley\n",
            "Drink 4 Yeast\n",
            "Drink 4 Corn\n",
            "Drink 5 Water\n",
            "Drink 5 Grapes\n",
            "Drink 5 Orange\n",
            "Drink 6 Yeast\n",
            "Drink 6 Hops\n",
            "Drink 6 Rice\n",
            "Drink 7 Water\n",
            "Drink 7 Grapes\n",
            "Drink 7 Yeast\n",
            "Drink 8 Orange\n",
            "Drink 8 Corn\n",
            "Drink 8 Apple\n",
            "Drink 9 Hops\n",
            "Drink 9 Sugar\n",
            "Drink 9 Water\n",
            "Drink 10 Sugar\n",
            "Drink 10 Grapes\n",
            "Drink 10 Water\n",
            "Drink 10 Hops\n",
            "Drink 11 Yeast\n",
            "Drink 11 Orange\n",
            "Drink 12 Water\n",
            "Drink 12 Barley\n",
            "Drink 12 Apple\n",
            "Drink 13 Corn\n",
            "Drink 13 Apple\n",
            "Drink 13 Hops\n",
            "Drink 13 Orange\n",
            "Drink 14 Grapes\n",
            "Drink 14 Apple\n",
            "Drink 15 Water\n",
            "Drink 15 Sugar\n",
            "Drink 15 Grapes\n",
            "Drink 16 Grapes\n",
            "Drink 16 Corn\n",
            "Drink 17 Barley\n",
            "Drink 17 Apple\n",
            "Drink 18 Water\n",
            "Drink 18 Barley\n",
            "Drink 19 Yeast\n",
            "Drink 20 Sugar\n",
            "Drink 20 Grapes\n",
            "Drink 20 Water\n"
          ]
        }
      ]
    },
    {
      "cell_type": "markdown",
      "source": [
        "## 11. Left JOIN with Temp Tables"
      ],
      "metadata": {
        "id": "lvvv_TQHvFsK"
      }
    },
    {
      "cell_type": "code",
      "source": [
        "query = f\"\"\"\n",
        "WITH drink_ingredient_count AS (\n",
        "    SELECT ingredient_id, COUNT(*) AS count\n",
        "    FROM drink_ingredients_{STUDENT_NAME_TABLE}\n",
        "    GROUP BY ingredient_id\n",
        ")\n",
        "SELECT ingredients_{STUDENT_NAME_TABLE}.name, drink_ingredient_count.count\n",
        "FROM ingredients_{STUDENT_NAME_TABLE}\n",
        "LEFT JOIN drink_ingredient_count ON ingredients_{STUDENT_NAME_TABLE}.id = drink_ingredient_count.ingredient_id\n",
        "ORDER BY drink_ingredient_count.count DESC\n",
        "LIMIT 1;\n",
        "\"\"\"\n",
        "result = session.execute(text(query))\n",
        "for row in result:\n",
        "    print(row)\n"
      ],
      "metadata": {
        "colab": {
          "base_uri": "https://localhost:8080/"
        },
        "id": "2la1L3o7sIfJ",
        "outputId": "19cd9bb1-297a-4320-cd31-902a0a08f134"
      },
      "execution_count": 93,
      "outputs": [
        {
          "output_type": "stream",
          "name": "stdout",
          "text": [
            "('Water', 8)\n"
          ]
        }
      ]
    },
    {
      "cell_type": "markdown",
      "source": [
        "## Final Integrating Exercise"
      ],
      "metadata": {
        "id": "qLrIOWD_wO4d"
      }
    },
    {
      "cell_type": "markdown",
      "source": [
        "**Mini-Hackathon**\n",
        "\n",
        "Develop a Flask application that serves as the backend for a blog. This task involves creating SQLAlchemy models for blog entities, performing CRUD operations, and exposing these through RESTful API endpoints.\n",
        "\n",
        "**Key Components:**\n",
        "\n",
        "1. Define SQLAlchemy models for blog entities (Post, Author, Comment).\n",
        "1. Populate these models with dummy data.\n",
        "1. Implement CRUD operations in Flask routes.\n",
        "1. Complex JOIN operations to fetch and aggregate blog data.\n",
        "1. Data visualization using Matplotlib or Seaborn, if applicable.\n",
        "\n",
        "**Execution Steps:**\n",
        "\n",
        "1. Set up a Flask app and define routes.\n",
        "1. Integrate SQLAlchemy models within Flask.\n",
        "1. Ensure each route performs the intended database operation.\n",
        "1. Test the application thoroughly.\n",
        "\n",
        "This comprehensive task tests a range of skills from database design to API development and offers an excellent opportunity to create a practical, functioning web application using SQLAlchemy and Flask."
      ],
      "metadata": {
        "id": "RlYenm7dwSbx"
      }
    },
    {
      "cell_type": "code",
      "source": [
        "!pip install flask flask-sqlalchemy flask-migrate flask-restful"
      ],
      "metadata": {
        "colab": {
          "base_uri": "https://localhost:8080/"
        },
        "id": "4rqHddGpv-dS",
        "outputId": "12b719ca-5295-46b4-8bd3-b206353030e4"
      },
      "execution_count": 95,
      "outputs": [
        {
          "output_type": "stream",
          "name": "stdout",
          "text": [
            "Requirement already satisfied: flask in /usr/local/lib/python3.10/dist-packages (2.2.5)\n",
            "Requirement already satisfied: Werkzeug>=2.2.2 in /usr/local/lib/python3.10/dist-packages (from flask) (3.0.1)\n",
            "Requirement already satisfied: Jinja2>=3.0 in /usr/local/lib/python3.10/dist-packages (from flask) (3.1.3)\n",
            "Requirement already satisfied: itsdangerous>=2.0 in /usr/local/lib/python3.10/dist-packages (from flask) (2.1.2)\n",
            "Requirement already satisfied: click>=8.0 in /usr/local/lib/python3.10/dist-packages (from flask) (8.1.7)\n",
            "Requirement already satisfied: MarkupSafe>=2.0 in /usr/local/lib/python3.10/dist-packages (from Jinja2>=3.0->flask) (2.1.5)\n"
          ]
        }
      ]
    },
    {
      "cell_type": "code",
      "source": [
        "from flask import Flask, jsonify, request\n",
        "\n",
        "app = Flask(__name__)\n",
        "\n",
        "# SQLAlchemy setup would go here\n",
        "# from your_model_file import YourModel\n",
        "\n",
        "@app.route('/')\n",
        "def index():\n",
        "    return \"Welcome to the Blog API!\"\n",
        "\n",
        "# Endpoint to fetch all posts (students to integrate SQLAlchemy)\n",
        "@app.route('/posts', methods=['GET'])\n",
        "def get_posts():\n",
        "    # Fetch posts from database using SQLAlchemy\n",
        "    # posts = YourModel.query.all()\n",
        "    # Convert the posts to a JSON format\n",
        "    # posts_json = [post.to_dict() for post in posts]\n",
        "    # return jsonify(posts_json)\n",
        "    return \"Endpoint to show all posts.\"\n",
        "\n",
        "# Endpoint to create a new post\n",
        "@app.route('/posts', methods=['POST'])\n",
        "def create_post():\n",
        "    # Extract data from request\n",
        "    # data = request.json\n",
        "    # Create a new post using SQLAlchemy\n",
        "    # new_post = YourModel(data)\n",
        "    # Add and commit new_post to database\n",
        "    # Return success message or new post data\n",
        "    return \"Endpoint to create a new post.\"\n",
        "\n",
        "# Endpoint to fetch a single post by ID\n",
        "@app.route('/posts/<int:post_id>', methods=['GET'])\n",
        "def get_post(post_id):\n",
        "    # Fetch the post with the given ID using SQLAlchemy\n",
        "    # post = YourModel.query.get(post_id)\n",
        "    # Convert the post to JSON format and return\n",
        "    return f\"Endpoint to show post with id {post_id}.\"\n",
        "\n",
        "# Endpoint to update a post by ID\n",
        "@app.route('/posts/<int:post_id>', methods=['PUT'])\n",
        "def update_post(post_id):\n",
        "    # Extract updated data from request\n",
        "    # Update post in database using SQLAlchemy\n",
        "    # Return success message or updated post data\n",
        "    return f\"Endpoint to update post with id {post_id}.\"\n",
        "\n",
        "# Endpoint to delete a post by ID\n",
        "@app.route('/posts/<int:post_id>', methods=['DELETE'])\n",
        "def delete_post(post_id):\n",
        "    # Delete the post with the given ID using SQLAlchemy\n",
        "    # Return success message\n",
        "    return f\"Endpoint to delete post with id {post_id}.\"\n",
        "\n",
        "if __name__ == '__main__':\n",
        "    app.run(debug=True)\n"
      ],
      "metadata": {
        "id": "wFCjzr9kwRI2"
      },
      "execution_count": null,
      "outputs": []
    }
  ]
}