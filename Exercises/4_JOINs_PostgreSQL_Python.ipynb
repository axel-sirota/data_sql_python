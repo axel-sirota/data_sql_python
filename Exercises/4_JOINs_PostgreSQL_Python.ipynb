{
 "cells": [
  {
   "cell_type": "markdown",
   "metadata": {
    "id": "nj7notC3roa1"
   },
   "source": [
    "# Creating JOINs in PostgreSQL with Python"
   ]
  },
  {
   "cell_type": "markdown",
   "metadata": {
    "id": "cxOLYnEdrsXE"
   },
   "source": [
    "This notebook covers the fundamentals of JOINs using Python and PostgreSQL database.\n",
    "\n",
    "**Topics Covered**\n",
    "\n",
    "1. Simple Left JOINs (1-1)\n",
    "2. Normal Left JOIN (1-Many)\n",
    "3. Complex Left JOIN (Many - Many)\n",
    "4. Left JOIN with Temp Tables (Many - Many)\n",
    "5. Inner JOIN\n",
    "6. Outer JOIN\n",
    "    \n",
    "Each section includes examples and explanations. In the end, you'll find an exercise to apply the concepts learned."
   ]
  },
  {
   "cell_type": "code",
   "execution_count": null,
   "metadata": {
    "id": "oErkKpV2rnm3"
   },
   "outputs": [],
   "source": [
    "\n",
    "import psycopg2\n",
    "import pandas as pd\n",
    "import matplotlib.pyplot as plt\n",
    "import itertools\n",
    "\n",
    "# Connecting to the PostgreSQL Database\n",
    "\n",
    "# We'll establish a connection to the PostgreSQL database using psycopg2 library.\n",
    "\n",
    "DB_HOST = 'test-db-sql-class.cnct5qiopjti.us-east-1.rds.amazonaws.com'\n",
    "DB_PORT = 5432\n",
    "DB_NAME = 'students'\n",
    "DB_USER = 'student'\n",
    "DB_PASSWORD = 'Password123$'\n",
    "STUDENT_NAME_TABLE = 'default'  # CHANGE THIS!\n",
    "\n",
    "try:\n",
    "    conn = psycopg2.connect(host=DB_HOST, port=DB_PORT, database=DB_NAME, user=DB_USER, password=DB_PASSWORD)\n",
    "    print(\"Connected to the database.\")\n",
    "except psycopg2.Error as e:\n",
    "    print(\"Unable to connect to the database.\")\n",
    "    print(e)\n"
   ]
  },
  {
   "cell_type": "markdown",
   "metadata": {
    "id": "pfnfjLjmseN4"
   },
   "source": [
    "## 0. Setup"
   ]
  },
  {
   "cell_type": "code",
   "execution_count": null,
   "metadata": {
    "id": "0GM0RbEYsf7d"
   },
   "outputs": [],
   "source": [
    "cursor = conn.cursor()\n",
    "\n",
    "# Creating tables (drinks, countries, drink_reviews, ingredients, drink_ingredients)\n",
    "cursor.execute(f\"\"\"\n",
    "DROP TABLE IF EXISTS drinks_{STUDENT_NAME_TABLE} cascade;\n",
    "DROP TABLE IF EXISTS countries_{STUDENT_NAME_TABLE} cascade;\n",
    "DROP TABLE IF EXISTS drink_reviews_{STUDENT_NAME_TABLE} cascade;\n",
    "DROP TABLE IF EXISTS ingredients_{STUDENT_NAME_TABLE} cascade;\n",
    "DROP TABLE IF EXISTS drink_ingredients_{STUDENT_NAME_TABLE} cascade;\n",
    "CREATE TABLE IF NOT EXISTS drinks_{STUDENT_NAME_TABLE} (\n",
    "    id SERIAL PRIMARY KEY,\n",
    "    name VARCHAR(255),\n",
    "    alcohol_content FLOAT,\n",
    "    country_id INTEGER\n",
    ");\n",
    "\n",
    "CREATE TABLE IF NOT EXISTS countries_{STUDENT_NAME_TABLE} (\n",
    "    id SERIAL PRIMARY KEY,\n",
    "    name VARCHAR(255),\n",
    "    famous_for VARCHAR(255)\n",
    ");\n",
    "\n",
    "CREATE TABLE IF NOT EXISTS drink_reviews_{STUDENT_NAME_TABLE} (\n",
    "    id SERIAL PRIMARY KEY,\n",
    "    drink_id INTEGER REFERENCES drinks_{STUDENT_NAME_TABLE}(id),\n",
    "    review TEXT\n",
    ");\n",
    "\n",
    "CREATE TABLE IF NOT EXISTS ingredients_{STUDENT_NAME_TABLE} (\n",
    "    id SERIAL PRIMARY KEY,\n",
    "    name VARCHAR(255)\n",
    ");\n",
    "\n",
    "CREATE TABLE IF NOT EXISTS drink_ingredients_{STUDENT_NAME_TABLE} (\n",
    "    drink_id INTEGER REFERENCES drinks_{STUDENT_NAME_TABLE}(id),\n",
    "    ingredient_id INTEGER REFERENCES ingredients_{STUDENT_NAME_TABLE}(id),\n",
    "    PRIMARY KEY (drink_id, ingredient_id)\n",
    ");\n",
    "\"\"\")\n",
    "conn.commit()"
   ]
  },
  {
   "cell_type": "code",
   "execution_count": null,
   "metadata": {
    "id": "GWJZMGqOsnUh"
   },
   "outputs": [],
   "source": [
    "# Inserting data into 'countries'\n",
    "cursor.execute(f\"\"\"\n",
    "INSERT INTO countries_{STUDENT_NAME_TABLE} (name, famous_for) VALUES\n",
    "('France', 'Wine'),\n",
    "('Germany', 'Beer'),\n",
    "('Scotland', 'Whisky')\n",
    "ON CONFLICT DO NOTHING;\n",
    "\"\"\")\n",
    "\n",
    "# Inserting data into 'drinks'\n",
    "cursor.execute(f\"\"\"\n",
    "INSERT INTO drinks_{STUDENT_NAME_TABLE} (name, alcohol_content, country_id) VALUES\n",
    "('Bordeaux', 12.5, 1),\n",
    "('Berlin Beer', 5.5, 2),\n",
    "('Scotch Whisky', 40.0, 3)\n",
    "ON CONFLICT DO NOTHING;\n",
    "\"\"\")\n",
    "\n",
    "# Inserting data into 'drink_reviews'\n",
    "cursor.execute(f\"\"\"\n",
    "INSERT INTO drink_reviews_{STUDENT_NAME_TABLE} (drink_id, review) VALUES\n",
    "(1, 'Excellent taste'),\n",
    "(1, 'Too dry for my liking'),\n",
    "(2, 'Perfect bitterness'),\n",
    "(3, 'Smooth and strong')\n",
    "ON CONFLICT DO NOTHING;\n",
    "\"\"\")\n",
    "\n",
    "# Inserting data into 'ingredients' and 'drink_ingredients'\n",
    "cursor.execute(f\"\"\"\n",
    "INSERT INTO ingredients_{STUDENT_NAME_TABLE} (name) VALUES\n",
    "('Grapes'),\n",
    "('Barley'),\n",
    "('Water'),\n",
    "('Yeast')\n",
    "ON CONFLICT DO NOTHING;\n",
    "\"\"\")\n",
    "\n",
    "cursor.execute(f\"\"\"\n",
    "INSERT INTO drink_ingredients_{STUDENT_NAME_TABLE} (drink_id, ingredient_id) VALUES\n",
    "(1, 1),\n",
    "(2, 2), (2, 3), (2, 4),\n",
    "(3, 1), (3, 3)\n",
    "ON CONFLICT DO NOTHING;\n",
    "\"\"\")\n",
    "conn.commit()"
   ]
  },
  {
   "cell_type": "markdown",
   "metadata": {
    "id": "bwKmVO47sZCq"
   },
   "source": [
    "## 1. Simple Left JOIN (1-1)"
   ]
  },
  {
   "cell_type": "markdown",
   "metadata": {
    "id": "8rAJNvl1swK_"
   },
   "source": [
    "Fetching drink names with their country's name:"
   ]
  },
  {
   "cell_type": "code",
   "execution_count": null,
   "metadata": {
    "id": "kWg7WTgKscCs"
   },
   "outputs": [],
   "source": [
    "query = f\"\"\"\n",
    "SELECT drinks_{STUDENT_NAME_TABLE}.name, countries_{STUDENT_NAME_TABLE}.name AS country\n",
    "FROM drinks_{STUDENT_NAME_TABLE}\n",
    "LEFT JOIN countries_{STUDENT_NAME_TABLE} ON drinks_{STUDENT_NAME_TABLE}.country_id = countries_{STUDENT_NAME_TABLE}.id;\n",
    "\"\"\"\n",
    "df = pd.read_sql_query(query, conn)\n",
    "df\n"
   ]
  },
  {
   "cell_type": "markdown",
   "metadata": {
    "id": "LrA2Lg9ttlqu"
   },
   "source": [
    "Including the country's famous attribute:"
   ]
  },
  {
   "cell_type": "code",
   "execution_count": null,
   "metadata": {
    "id": "7TygoNTOtb4U"
   },
   "outputs": [],
   "source": [
    "query = f\"\"\"\n",
    "SELECT drinks_{STUDENT_NAME_TABLE}.name, countries_{STUDENT_NAME_TABLE}.name AS country, countries_{STUDENT_NAME_TABLE}.famous_for\n",
    "FROM drinks_{STUDENT_NAME_TABLE}\n",
    "LEFT JOIN countries_{STUDENT_NAME_TABLE} ON drinks_{STUDENT_NAME_TABLE}.country_id = countries_{STUDENT_NAME_TABLE}.id;\n",
    "\"\"\"\n",
    "df = pd.read_sql_query(query, conn)\n",
    "df"
   ]
  },
  {
   "cell_type": "markdown",
   "metadata": {
    "id": "uC0VKi16The3"
   },
   "source": [
    "### Mini Exercise: LEFT JOIN (1 to 1 relationship with `drinks` and `drinks_details`)\n",
    "\n",
    "**Objective**: Retrieve all drinks and their corresponding details, assuming a 1 to 1 relationship between `drinks` and `drinks_details`. Create the corresponding table `drinks_details`."
   ]
  },
  {
   "cell_type": "code",
   "execution_count": null,
   "metadata": {
    "id": "K_tAfho9Wbhx"
   },
   "outputs": [],
   "source": []
  },
  {
   "cell_type": "code",
   "execution_count": null,
   "metadata": {
    "id": "TKXR0J3MWTSq"
   },
   "outputs": [],
   "source": []
  },
  {
   "cell_type": "code",
   "execution_count": null,
   "metadata": {
    "id": "ihjoGhWxWHY1"
   },
   "outputs": [],
   "source": []
  },
  {
   "cell_type": "code",
   "execution_count": null,
   "metadata": {
    "id": "4KffLXkeThe4",
    "pycharm": {
     "name": "#%%\n"
    }
   },
   "outputs": [],
   "source": []
  },
  {
   "cell_type": "markdown",
   "metadata": {
    "id": "dmJLhpkWvXWw"
   },
   "source": [
    "## 2. Normal Left JOIN (1-Many)"
   ]
  },
  {
   "cell_type": "markdown",
   "metadata": {
    "id": "YE_BB_h-vcQk"
   },
   "source": [
    "Fetching drink names with one review each:"
   ]
  },
  {
   "cell_type": "code",
   "execution_count": null,
   "metadata": {
    "id": "2QiqMWY9tsTv"
   },
   "outputs": [],
   "source": [
    "query = f\"\"\"\n",
    "SELECT drinks_{STUDENT_NAME_TABLE}.name, drink_reviews_{STUDENT_NAME_TABLE}.review\n",
    "FROM drinks_{STUDENT_NAME_TABLE}\n",
    "LEFT JOIN drink_reviews_{STUDENT_NAME_TABLE} ON drinks_{STUDENT_NAME_TABLE}.id = drink_reviews_{STUDENT_NAME_TABLE}.drink_id;\n",
    "\"\"\"\n",
    "df = pd.read_sql_query(query, conn)\n",
    "df\n"
   ]
  },
  {
   "cell_type": "markdown",
   "metadata": {
    "id": "OIwNOs0tv4j-"
   },
   "source": [
    "Aggregating reviews for each drink:"
   ]
  },
  {
   "cell_type": "code",
   "execution_count": null,
   "metadata": {
    "id": "X5LKttJLvkDN"
   },
   "outputs": [],
   "source": [
    "query = f\"\"\"\n",
    "SELECT drinks_{STUDENT_NAME_TABLE}.name, COUNT(drink_reviews_{STUDENT_NAME_TABLE}.id) AS review_count\n",
    "FROM drinks_{STUDENT_NAME_TABLE}\n",
    "LEFT JOIN drink_reviews_{STUDENT_NAME_TABLE} ON drinks_{STUDENT_NAME_TABLE}.id = drink_reviews_{STUDENT_NAME_TABLE}.drink_id\n",
    "GROUP BY drinks_{STUDENT_NAME_TABLE}.name;\n",
    "\"\"\"\n",
    "df = pd.read_sql_query(query, conn)\n",
    "df\n"
   ]
  },
  {
   "cell_type": "markdown",
   "metadata": {
    "id": "2oCO4pv1The6"
   },
   "source": [
    "### Mini Exercise: LEFT JOIN (1 to Many relationship with `drinks` and `drinks_ingredients`)\n",
    "\n",
    "**Objective**: Show all drinks along with all their ingredients, representing a 1 to Many relationship.\n"
   ]
  },
  {
   "cell_type": "code",
   "execution_count": null,
   "metadata": {
    "id": "F5TVadN7The7",
    "pycharm": {
     "name": "#%%\n"
    }
   },
   "outputs": [],
   "source": []
  },
  {
   "cell_type": "markdown",
   "metadata": {
    "id": "1Sn3lWuTwC7z"
   },
   "source": [
    "## 3. Complex Left JOIN (Many - Many)"
   ]
  },
  {
   "cell_type": "markdown",
   "metadata": {
    "id": "b20w6zrwwIQX"
   },
   "source": [
    "Listing drinks with one ingredient each:"
   ]
  },
  {
   "cell_type": "code",
   "execution_count": null,
   "metadata": {
    "id": "LZcLLZfPwBXE"
   },
   "outputs": [],
   "source": [
    "query = f\"\"\"\n",
    "SELECT drinks_{STUDENT_NAME_TABLE}.name, ingredients_{STUDENT_NAME_TABLE}.name AS ingredient\n",
    "FROM drinks_{STUDENT_NAME_TABLE}\n",
    "LEFT JOIN drink_ingredients_{STUDENT_NAME_TABLE} ON drinks_{STUDENT_NAME_TABLE}.id = drink_ingredients_{STUDENT_NAME_TABLE}.drink_id\n",
    "LEFT JOIN ingredients_{STUDENT_NAME_TABLE} ON drink_ingredients_{STUDENT_NAME_TABLE}.ingredient_id = ingredients_{STUDENT_NAME_TABLE}.id;\n",
    "\"\"\"\n",
    "df = pd.read_sql_query(query, conn)\n",
    "df"
   ]
  },
  {
   "cell_type": "markdown",
   "metadata": {
    "id": "n3Ik49BZwTqT"
   },
   "source": [
    "Counting different ingredients for each drink:\n",
    "\n"
   ]
  },
  {
   "cell_type": "code",
   "execution_count": null,
   "metadata": {
    "id": "5KDyFziVwRnN"
   },
   "outputs": [],
   "source": [
    "query = f\"\"\"\n",
    "SELECT drinks_{STUDENT_NAME_TABLE}.name, COUNT(drink_ingredients_{STUDENT_NAME_TABLE}.ingredient_id) AS ingredient_count\n",
    "FROM drinks_{STUDENT_NAME_TABLE}\n",
    "LEFT JOIN drink_ingredients_{STUDENT_NAME_TABLE} ON drinks_{STUDENT_NAME_TABLE}.id = drink_ingredients_{STUDENT_NAME_TABLE}.drink_id\n",
    "GROUP BY drinks_{STUDENT_NAME_TABLE}.name;\n",
    "\"\"\"\n",
    "df = pd.read_sql_query(query, conn)\n",
    "df"
   ]
  },
  {
   "cell_type": "markdown",
   "metadata": {
    "id": "miX98y99The8"
   },
   "source": [
    "### Mini Exercise: LEFT JOIN (Many to Many relationship with `drinks` and `ingredients` through `drinks_ingredients`)\n",
    "\n",
    "**Objective**: Demonstrate a LEFT JOIN in a Many to Many relationship, showing all drinks and their possible ingredients, including those without ingredients.\n"
   ]
  },
  {
   "cell_type": "code",
   "execution_count": null,
   "metadata": {
    "id": "kwKiear2The9",
    "pycharm": {
     "name": "#%%\n"
    }
   },
   "outputs": [],
   "source": []
  },
  {
   "cell_type": "markdown",
   "metadata": {
    "id": "ZRL1c1T6wcoa"
   },
   "source": [
    "## 4. Left JOIN with Temp Tables (Many - Many)"
   ]
  },
  {
   "cell_type": "markdown",
   "metadata": {
    "id": "uQZsMWXGwgpn"
   },
   "source": [
    "Finding the most common ingredient in all drinks:"
   ]
  },
  {
   "cell_type": "code",
   "execution_count": null,
   "metadata": {
    "id": "_7RSaHL-wbZ-"
   },
   "outputs": [],
   "source": [
    "query = f\"\"\"\n",
    "WITH drink_ingredient_count AS (\n",
    "    SELECT ingredient_id, COUNT(*) AS count\n",
    "    FROM drink_ingredients_{STUDENT_NAME_TABLE}\n",
    "    GROUP BY ingredient_id\n",
    ")\n",
    "SELECT ingredients_{STUDENT_NAME_TABLE}.name, drink_ingredient_count.count\n",
    "FROM ingredients_{STUDENT_NAME_TABLE}\n",
    "LEFT JOIN drink_ingredient_count ON ingredients_{STUDENT_NAME_TABLE}.id = drink_ingredient_count.ingredient_id\n",
    "ORDER BY drink_ingredient_count.count DESC\n",
    "LIMIT 5;\n",
    "\"\"\"\n",
    "df = pd.read_sql_query(query, conn)\n",
    "df\n"
   ]
  },
  {
   "cell_type": "markdown",
   "metadata": {
    "id": "aSgGvYIdw4ou"
   },
   "source": [
    "Calculating the average number of ingredients per drink category:"
   ]
  },
  {
   "cell_type": "code",
   "execution_count": null,
   "metadata": {
    "id": "KyOaJgPvzJx2"
   },
   "outputs": [],
   "source": [
    "conn.rollback()\n",
    "# Assuming there is a 'category' column in the drinks table\n",
    "cursor.execute(f\"\"\"\n",
    "ALTER TABLE drinks_{STUDENT_NAME_TABLE}\n",
    "ADD COLUMN category VARCHAR(255);\n",
    "\"\"\")\n",
    "conn.commit()\n",
    "cursor.execute(f\"\"\"\n",
    "UPDATE drinks_{STUDENT_NAME_TABLE}\n",
    "SET category = CASE\n",
    "    WHEN alcohol_content > 20 THEN 'Whisky'\n",
    "    WHEN alcohol_content BETWEEN 10 AND 20 THEN 'Wine'\n",
    "    ELSE 'Beer'\n",
    "END;\n",
    "\"\"\")\n",
    "conn.commit()\n"
   ]
  },
  {
   "cell_type": "code",
   "execution_count": null,
   "metadata": {
    "id": "52YgtehywvAl"
   },
   "outputs": [],
   "source": [
    "query = f\"\"\"\n",
    "WITH avg_ingredients AS (\n",
    "    SELECT sub.category, AVG(sub.ingredient_count) AS avg_count\n",
    "    FROM (\n",
    "        SELECT d.category, COUNT(di.ingredient_id) AS ingredient_count\n",
    "        FROM drinks_{STUDENT_NAME_TABLE} d\n",
    "        LEFT JOIN drink_ingredients_{STUDENT_NAME_TABLE} di ON d.id = di.drink_id\n",
    "        GROUP BY d.id, d.category\n",
    "    ) AS sub\n",
    "    GROUP BY sub.category\n",
    ")\n",
    "SELECT category, avg_count\n",
    "FROM avg_ingredients;\n",
    "\"\"\"\n",
    "\n",
    "df = pd.read_sql_query(query, conn)\n",
    "df"
   ]
  },
  {
   "cell_type": "markdown",
   "metadata": {
    "id": "P_p8V4cQThe_"
   },
   "source": [
    "### Mini Exercise: LEFT JOIN (Many to Many relationship with a Temp table)\n",
    "\n",
    "**Objective**: Utilize a temporary table in a LEFT JOIN operation in a Many to Many relationship scenario, using `drinks`, `ingredients`, and a temporary junction table.\n"
   ]
  },
  {
   "cell_type": "code",
   "execution_count": null,
   "metadata": {
    "id": "8RKwLXiEThfA",
    "pycharm": {
     "name": "#%%\n"
    }
   },
   "outputs": [],
   "source": []
  },
  {
   "cell_type": "code",
   "execution_count": null,
   "metadata": {
    "id": "RwLt6Rm6ThfA",
    "pycharm": {
     "name": "#%%\n"
    }
   },
   "outputs": [],
   "source": []
  },
  {
   "cell_type": "markdown",
   "metadata": {
    "id": "QdmXVbO6znqZ"
   },
   "source": [
    "## 5. Inner JOIN"
   ]
  },
  {
   "cell_type": "markdown",
   "metadata": {
    "id": "r_7sjYkEzpfc"
   },
   "source": [
    "Fetching drinks with ingredients present in the ingredients table:"
   ]
  },
  {
   "cell_type": "code",
   "execution_count": null,
   "metadata": {
    "id": "mvCdI5QHxH-g"
   },
   "outputs": [],
   "source": [
    "query = f\"\"\"\n",
    "SELECT drinks_{STUDENT_NAME_TABLE}.name, ingredients_{STUDENT_NAME_TABLE}.name AS ingredient\n",
    "FROM drinks_{STUDENT_NAME_TABLE}\n",
    "JOIN drink_ingredients_{STUDENT_NAME_TABLE} ON drinks_{STUDENT_NAME_TABLE}.id = drink_ingredients_{STUDENT_NAME_TABLE}.drink_id\n",
    "JOIN ingredients_{STUDENT_NAME_TABLE} ON drink_ingredients_{STUDENT_NAME_TABLE}.ingredient_id = ingredients_{STUDENT_NAME_TABLE}.id;\n",
    "\"\"\"\n",
    "df = pd.read_sql_query(query, conn)\n",
    "df"
   ]
  },
  {
   "cell_type": "markdown",
   "metadata": {
    "id": "KDWUN1cEThfB"
   },
   "source": [
    "### Mini Exercise: INNER JOIN (Find common ingredients in `drinks` and `ingredients`)\n",
    "\n",
    "**Objective**: Identify common ingredients used in drinks, represented in both `drinks` and `ingredients` tables.\n"
   ]
  },
  {
   "cell_type": "code",
   "execution_count": null,
   "metadata": {
    "id": "hFvhoCYWThfB",
    "pycharm": {
     "name": "#%%\n"
    }
   },
   "outputs": [],
   "source": []
  },
  {
   "cell_type": "markdown",
   "metadata": {
    "id": "C1G1SoQBz8BY"
   },
   "source": [
    "## 6. Outer JOIN"
   ]
  },
  {
   "cell_type": "markdown",
   "metadata": {
    "id": "Edtoz_6Tz_Ii"
   },
   "source": [
    "Fetching all drinks and ingredients, whether matched or not:"
   ]
  },
  {
   "cell_type": "code",
   "execution_count": null,
   "metadata": {
    "id": "dNJ-xF7Dz3Qs"
   },
   "outputs": [],
   "source": [
    "query = f\"\"\"\n",
    "SELECT drinks_{STUDENT_NAME_TABLE}.*, countries_{STUDENT_NAME_TABLE}.*\n",
    "FROM drinks_{STUDENT_NAME_TABLE}\n",
    "FULL OUTER JOIN countries_{STUDENT_NAME_TABLE} ON drinks_{STUDENT_NAME_TABLE}.country_id = countries_{STUDENT_NAME_TABLE}.id\n",
    "\"\"\"\n",
    "df = pd.read_sql_query(query, conn)\n",
    "df"
   ]
  },
  {
   "cell_type": "markdown",
   "metadata": {
    "id": "Zfco9VZf0QDf"
   },
   "source": [
    "## Final Integrating Exercise"
   ]
  },
  {
   "cell_type": "markdown",
   "metadata": {
    "id": "WI7xCZNz0Snk"
   },
   "source": [
    "**Objective**: This exercise is designed to test your ability to create and manipulate tables using JOIN operations in PostgreSQL, along with integrating the results with Python for analysis. You will work with a fictional scenario involving drinks, their origins, ratings, and flavors.\n",
    "\n",
    "**Setup:**\n",
    "\n",
    "1. Create a new table drink_origin with columns id, drink_id (foreign key to drinks table), and origin. Establish a 1-1 relationship with the drinks table.\n",
    "1. Create another table drink_flavors with columns id, drink_id (foreign key to drinks table), and flavor. This table will have a 1-many relationship with the drinks table.\n",
    "1. Populate these tables with relevant dummy data.\n",
    "\n",
    "**Tasks:**\n",
    "\n",
    "1. INNER JOIN: Write a query using INNER JOIN to find all drinks that have a specific flavor (e.g., \"Fruity\"). Load the results into a Pandas DataFrame.\n",
    "1. LEFT JOIN: Fetch all drinks, along with their origin and flavors, using LEFT JOIN. Include drinks that might not have an associated flavor or origin. Load the results into a Pandas DataFrame.\n",
    "1. FULL OUTER JOIN: Perform a FULL OUTER JOIN on the drinks table and drink_flavors to show all combinations, including drinks without flavors and flavors not associated with any drink. Load the results into a Pandas DataFrame.\n",
    "1. Complex LEFT JOIN: Calculate the average number of flavors per country of origin. This will involve a LEFT JOIN between drinks, drink_origin, and drink_flavors, along with aggregation (COUNT, AVG) of the number of flavors. Load the results into a Pandas DataFrame.\n",
    "1. Data Visualization: Utilize Pandas and a plotting library (like matplotlib) to visualize the distribution of flavors across different drink origins."
   ]
  },
  {
   "cell_type": "code",
   "execution_count": null,
   "metadata": {
    "id": "ZOTdjyBZ0HIL"
   },
   "outputs": [],
   "source": []
  },
  {
   "cell_type": "code",
   "execution_count": null,
   "metadata": {
    "id": "4_5yVm1kZmgr"
   },
   "outputs": [],
   "source": []
  },
  {
   "cell_type": "code",
   "execution_count": null,
   "metadata": {
    "id": "ZsTfnZ2jZsbK"
   },
   "outputs": [],
   "source": []
  },
  {
   "cell_type": "code",
   "execution_count": null,
   "metadata": {
    "id": "OEec8zmpZyQy"
   },
   "outputs": [],
   "source": []
  },
  {
   "cell_type": "code",
   "execution_count": null,
   "metadata": {
    "id": "MBsAkzAtZ1Tu"
   },
   "outputs": [],
   "source": []
  },
  {
   "cell_type": "markdown",
   "metadata": {
    "id": "FIrAOmJW0meS"
   },
   "source": [
    "# Teardown"
   ]
  },
  {
   "cell_type": "code",
   "execution_count": null,
   "metadata": {
    "id": "C-mi3f9g0l0b"
   },
   "outputs": [],
   "source": [
    "# Creating tables (drinks, countries, drink_reviews, ingredients, drink_ingredients)\n",
    "cursor.execute(f\"\"\"\n",
    "DROP TABLE IF EXISTS drinks_{STUDENT_NAME_TABLE} cascade;\n",
    "DROP TABLE IF EXISTS countries_{STUDENT_NAME_TABLE} cascade;\n",
    "DROP TABLE IF EXISTS drink_reviews_{STUDENT_NAME_TABLE} cascade;\n",
    "DROP TABLE IF EXISTS ingredients_{STUDENT_NAME_TABLE} cascade;\n",
    "DROP TABLE IF EXISTS drink_ingredients_{STUDENT_NAME_TABLE} cascade;\n",
    "DROP TABLE IF EXISTS drink_details_{STUDENT_NAME_TABLE} cascade;\n",
    "DROP TABLE IF EXISTS drink_origin_{STUDENT_NAME_TABLE} cascade;\n",
    "DROP TABLE IF EXISTS drink_flavors_{STUDENT_NAME_TABLE} cascade;\n",
    "\n",
    "\"\"\")\n",
    "conn.commit()\n",
    "cursor.close()\n",
    "conn.close()"
   ]
  },
  {
   "cell_type": "code",
   "execution_count": null,
   "metadata": {
    "id": "ywfs0ESd1bdY",
    "pycharm": {
     "name": "#%%\n"
    }
   },
   "outputs": [],
   "source": [
    "\n"
   ]
  }
 ],
 "metadata": {
  "colab": {
   "provenance": []
  },
  "kernelspec": {
   "display_name": "Python 3 (ipykernel)",
   "language": "python",
   "name": "python3"
  },
  "language_info": {
   "codemirror_mode": {
    "name": "ipython",
    "version": 3
   },
   "file_extension": ".py",
   "mimetype": "text/x-python",
   "name": "python",
   "nbconvert_exporter": "python",
   "pygments_lexer": "ipython3",
   "version": "3.10.6"
  }
 },
 "nbformat": 4,
 "nbformat_minor": 1
}
