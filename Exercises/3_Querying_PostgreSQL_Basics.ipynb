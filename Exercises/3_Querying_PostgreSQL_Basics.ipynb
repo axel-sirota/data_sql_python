{
 "cells": [
  {
   "cell_type": "markdown",
   "id": "e6f6a3dd",
   "metadata": {
    "id": "e6f6a3dd"
   },
   "source": [
    "\n",
    "# Creating Simple Queries to PostgreSQL in Python\n",
    "\n",
    "This notebook covers the fundamentals of using Python to interact with a PostgreSQL database. We'll explore how to run queries, handle data, and ensure secure database interactions.\n",
    "\n",
    "## Topics Covered\n",
    "\n",
    "0. Uploading a CSV file as a new table in the database.\n",
    "1. Basic SQL queries in Python using SQLite (as a local example before moving to PostgreSQL).\n",
    "2. Iterating over data using a `SELECT *` statement.\n",
    "3. Basic `GROUP BY` queries.\n",
    "4. Using templating to prevent SQL injection.\n",
    "5. Selecting specific columns and rows, including limiting and offsetting results.\n",
    "6. Implementing `ORDER BY` in queries.\n",
    "7. Adding pagination to results using itertools.\n",
    "8. Loading data into a Pandas DataFrame for analysis and charting.\n",
    "\n",
    "Each section includes examples and explanations. In the end, you'll find an exercise to apply the concepts learned.\n"
   ]
  },
  {
   "cell_type": "code",
   "execution_count": null,
   "id": "ScP1Vfv-TKML",
   "metadata": {
    "colab": {
     "base_uri": "https://localhost:8080/"
    },
    "id": "ScP1Vfv-TKML",
    "outputId": "ff849a6c-d512-4709-e0a1-04fac652fa9c"
   },
   "outputs": [],
   "source": [
    "!pip install psycopg2"
   ]
  },
  {
   "cell_type": "code",
   "execution_count": null,
   "id": "e08008ab",
   "metadata": {
    "colab": {
     "base_uri": "https://localhost:8080/"
    },
    "id": "e08008ab",
    "outputId": "87bac94c-1ffb-4f56-dfae-8cf1a7f6d284"
   },
   "outputs": [],
   "source": [
    "\n",
    "import psycopg2\n",
    "import pandas as pd\n",
    "import matplotlib.pyplot as plt\n",
    "import itertools\n",
    "\n",
    "# Connecting to the PostgreSQL Database\n",
    "\n",
    "# We'll establish a connection to the PostgreSQL database using psycopg2 library.\n",
    "\n",
    "DB_HOST = 'test-db-sql-class.cnct5qiopjti.us-east-1.rds.amazonaws.com'\n",
    "DB_PORT = 5432\n",
    "DB_NAME = 'students'\n",
    "DB_USER = 'student'\n",
    "DB_PASSWORD = 'Password123$'\n",
    "STUDENT_NAME_TABLE = 'default'  # CHANGE THIS!\n",
    "\n",
    "try:\n",
    "    conn = psycopg2.connect(host=DB_HOST, port=DB_PORT, database=DB_NAME, user=DB_USER, password=DB_PASSWORD)\n",
    "    print(\"Connected to the database.\")\n",
    "except psycopg2.Error as e:\n",
    "    print(\"Unable to connect to the database.\")\n",
    "    print(e)\n"
   ]
  },
  {
   "cell_type": "markdown",
   "id": "5pf-e-0bnEiJ",
   "metadata": {
    "id": "5pf-e-0bnEiJ"
   },
   "source": [
    "## 0. Load the Database and Table"
   ]
  },
  {
   "cell_type": "code",
   "execution_count": null,
   "id": "A88ZhR4EnJoG",
   "metadata": {
    "colab": {
     "base_uri": "https://localhost:8080/"
    },
    "id": "A88ZhR4EnJoG",
    "outputId": "05934a0f-57dc-4d3f-a854-89dcc8922a35"
   },
   "outputs": [],
   "source": [
    "%%writefile get_data.sh\n",
    "\n",
    "mkdir -p data\n",
    "if [ ! -f ./data/drinks.csv ]; then\n",
    "    wget -O data/drinks.csv https://www.dropbox.com/scl/fi/tkfdy0mq30g2t424hmn5o/drinks.csv?rlkey=jl8r4aw1o7y7b5au8icub20pn&dl=0\n",
    "fi"
   ]
  },
  {
   "cell_type": "code",
   "execution_count": null,
   "id": "MMGMWrZknY_Q",
   "metadata": {
    "colab": {
     "base_uri": "https://localhost:8080/"
    },
    "id": "MMGMWrZknY_Q",
    "outputId": "24603f4b-4ea4-46b3-c01f-96f2f3e67f29"
   },
   "outputs": [],
   "source": [
    "!bash get_data.sh"
   ]
  },
  {
   "cell_type": "code",
   "execution_count": null,
   "id": "7w5sNyJ_nI7n",
   "metadata": {
    "id": "7w5sNyJ_nI7n"
   },
   "outputs": [],
   "source": [
    "# Creating a new table with specified data types\n",
    "cursor = conn.cursor()\n",
    "cursor.execute(f\"\"\"\n",
    "CREATE TABLE IF NOT EXISTS drinks_{STUDENT_NAME_TABLE} (\n",
    "    id SERIAL PRIMARY KEY,\n",
    "    country VARCHAR(255),\n",
    "    beer_servings FLOAT,\n",
    "    spirit_servings FLOAT,\n",
    "    wine_servings FLOAT,\n",
    "    total_litres_of_pure_alcohol FLOAT,\n",
    "    continent VARCHAR(255)\n",
    ");\n",
    "\"\"\")\n",
    "# Inserting data from the CSV file\n",
    "with open('data/drinks.csv', 'r') as file:\n",
    "    next(file)  # Skip the header\n",
    "    cursor.copy_from(file, f'drinks_{STUDENT_NAME_TABLE}', sep=',', columns=(\n",
    "        'country', 'beer_servings', 'spirit_servings', 'wine_servings',\n",
    "        'total_litres_of_pure_alcohol', 'continent'\n",
    "    ))\n",
    "\n",
    "conn.commit()"
   ]
  },
  {
   "cell_type": "markdown",
   "id": "fdd2aa4b",
   "metadata": {
    "id": "fdd2aa4b"
   },
   "source": [
    "\n",
    "## 1. Basic SQL Queries Using SQLite\n",
    "In this section, we'll start with SQLite to demonstrate basic SQL operations in Python.\n"
   ]
  },
  {
   "cell_type": "code",
   "execution_count": null,
   "id": "a26e1f91",
   "metadata": {
    "id": "a26e1f91"
   },
   "outputs": [],
   "source": [
    "\n",
    "# Example 1: Creating a table and inserting data\n",
    "create_table_query = f'''\n",
    "CREATE TABLE if not exists students_{STUDENT_NAME_TABLE} (\n",
    "    id serial primary key,\n",
    "    name TEXT,\n",
    "    age INTEGER\n",
    ");\n",
    "'''\n",
    "\n",
    "# Execute the query\n",
    "cur = conn.cursor()\n",
    "cur.execute(create_table_query)\n",
    "\n",
    "# Inserting data\n",
    "insert_query = f\"INSERT INTO students_{STUDENT_NAME_TABLE} (name, age) VALUES (%s, %s);\"\n",
    "cur.execute(insert_query, ('Alice', 21))\n",
    "cur.execute(insert_query, ('Bob', 22))\n",
    "conn.commit()\n"
   ]
  },
  {
   "cell_type": "code",
   "execution_count": null,
   "id": "8ffbcba1",
   "metadata": {
    "colab": {
     "base_uri": "https://localhost:8080/",
     "height": 230
    },
    "id": "8ffbcba1",
    "outputId": "36aa33b5-7cdb-4a98-db8f-05e00ca072c4"
   },
   "outputs": [],
   "source": [
    "\n",
    "# Example 2: Selecting data from the table\n",
    "select_query = f\"SELECT * FROM students_{STUDENT_NAME_TABLE};\"\n",
    "pd.read_sql_query(select_query, conn)\n"
   ]
  },
  {
   "cell_type": "markdown",
   "id": "BXUydDBVnk96",
   "metadata": {
    "id": "BXUydDBVnk96"
   },
   "source": [
    "### Mini Exercise - Connection and Basic Queries\n",
    "Connect to the database and perform a simple query to count the number of rows in a specified table (e.g., 'students')."
   ]
  },
  {
   "cell_type": "code",
   "execution_count": null,
   "id": "nDdTX0cCnk9_",
   "metadata": {
    "id": "nDdTX0cCnk9_"
   },
   "outputs": [],
   "source": []
  },
  {
   "cell_type": "markdown",
   "id": "9gipz_nipD79",
   "metadata": {
    "id": "9gipz_nipD79"
   },
   "source": [
    "More complex example:"
   ]
  },
  {
   "cell_type": "code",
   "execution_count": null,
   "id": "118ZFNokpAMe",
   "metadata": {
    "colab": {
     "base_uri": "https://localhost:8080/"
    },
    "id": "118ZFNokpAMe",
    "outputId": "7bb7a659-93ff-486e-df55-d4ae6c57e7f3"
   },
   "outputs": [],
   "source": [
    "cursor.execute(f\"\"\"\n",
    "SELECT country, continent, total_litres_of_pure_alcohol\n",
    "FROM drinks_{STUDENT_NAME_TABLE}\n",
    "ORDER BY total_litres_of_pure_alcohol DESC\n",
    "LIMIT 3;\n",
    "\"\"\")\n",
    "top_alcoholic_drinks = cursor.fetchall()\n",
    "for drink in top_alcoholic_drinks:\n",
    "    print(drink)"
   ]
  },
  {
   "cell_type": "markdown",
   "id": "CPKnze-CpbF6",
   "metadata": {
    "id": "CPKnze-CpbF6"
   },
   "source": [
    "## 2. Iterating Data from a Table"
   ]
  },
  {
   "cell_type": "code",
   "execution_count": null,
   "id": "SMj-Az9_pSL_",
   "metadata": {
    "colab": {
     "base_uri": "https://localhost:8080/"
    },
    "id": "SMj-Az9_pSL_",
    "outputId": "2afd0bcb-1e46-4935-8c7c-eb88189a0e3e"
   },
   "outputs": [],
   "source": [
    "cursor.execute(f\"SELECT * FROM drinks_{STUDENT_NAME_TABLE};\")\n",
    "for row in cursor:\n",
    "    print(row)\n"
   ]
  },
  {
   "cell_type": "code",
   "execution_count": null,
   "id": "-3oFQTOEpe_U",
   "metadata": {
    "colab": {
     "base_uri": "https://localhost:8080/"
    },
    "id": "-3oFQTOEpe_U",
    "outputId": "aac5896d-3252-4f5f-9b3b-07ffd0390ce6"
   },
   "outputs": [],
   "source": [
    "cursor.execute(f\"SELECT * FROM drinks_{STUDENT_NAME_TABLE} WHERE beer_servings > 100;\")\n",
    "for row in cursor:\n",
    "    print(row)"
   ]
  },
  {
   "cell_type": "code",
   "execution_count": null,
   "id": "n_RiObuVpszs",
   "metadata": {
    "colab": {
     "base_uri": "https://localhost:8080/",
     "height": 423
    },
    "id": "n_RiObuVpszs",
    "outputId": "311a93d7-52ca-43be-f0c1-36156c3255d3"
   },
   "outputs": [],
   "source": [
    "cursor.execute(f\"SELECT * FROM drinks_{STUDENT_NAME_TABLE} WHERE beer_servings > 100;\")\n",
    "pd.DataFrame(cursor.fetchall())"
   ]
  },
  {
   "cell_type": "markdown",
   "id": "9foeHSpUoc70",
   "metadata": {
    "id": "9foeHSpUoc70"
   },
   "source": [
    "### Mini Exercise - Data Manipulation with Pandas\n",
    "Load the results of a query (e.g., select * from students) into a Pandas DataFrame and display the first 5 rows."
   ]
  },
  {
   "cell_type": "code",
   "execution_count": null,
   "id": "LBni8ZERoc71",
   "metadata": {
    "id": "LBni8ZERoc71"
   },
   "outputs": [],
   "source": []
  },
  {
   "cell_type": "markdown",
   "id": "FXROtbJRp2_l",
   "metadata": {
    "id": "FXROtbJRp2_l"
   },
   "source": [
    "## 3. Basic GROUP BY Queries"
   ]
  },
  {
   "cell_type": "code",
   "execution_count": null,
   "id": "UDGzfK0cp7W9",
   "metadata": {
    "id": "UDGzfK0cp7W9"
   },
   "outputs": [],
   "source": [
    "cursor.execute(f\"SELECT continent, COUNT(*) FROM drinks_{STUDENT_NAME_TABLE} GROUP BY continent;\")\n",
    "count_per_category = cursor.fetchall()\n"
   ]
  },
  {
   "cell_type": "code",
   "execution_count": null,
   "id": "LM6ojAGQp_xL",
   "metadata": {
    "colab": {
     "base_uri": "https://localhost:8080/"
    },
    "id": "LM6ojAGQp_xL",
    "outputId": "cb4ae356-cecc-40e3-bd39-c3c9fc884133"
   },
   "outputs": [],
   "source": [
    "for continent, count in count_per_category:\n",
    "    print(f\"Continent: {continent}, Count: {count}\")"
   ]
  },
  {
   "cell_type": "code",
   "execution_count": null,
   "id": "MV1Ji2wxqFyd",
   "metadata": {
    "colab": {
     "base_uri": "https://localhost:8080/",
     "height": 237
    },
    "id": "MV1Ji2wxqFyd",
    "outputId": "d850d376-9772-4977-c4be-4388feb72476"
   },
   "outputs": [],
   "source": [
    "cursor.execute(f\"\"\"\n",
    "SELECT continent, AVG(spirit_servings) as average_spirit\n",
    "FROM drinks_{STUDENT_NAME_TABLE}\n",
    "GROUP BY continent;\n",
    "\"\"\")\n",
    "avg_alcohol_by_continent = cursor.fetchall()\n",
    "pd.DataFrame(avg_alcohol_by_continent, columns=['Continent', 'Average Spirit Servings'])"
   ]
  },
  {
   "cell_type": "code",
   "execution_count": null,
   "id": "1yUg_sEeosA1",
   "metadata": {
    "id": "1yUg_sEeosA1"
   },
   "outputs": [],
   "source": []
  },
  {
   "cell_type": "markdown",
   "id": "0xa9sLkzosJp",
   "metadata": {
    "id": "0xa9sLkzosJp"
   },
   "source": [
    "### Mini Exercise - Advanced Querying Techniques\n",
    "Write a query to find the names of students who have a certain attribute (e.g., age greater than 20) and display the results."
   ]
  },
  {
   "cell_type": "code",
   "execution_count": null,
   "id": "lpb6F_76osJq",
   "metadata": {
    "id": "lpb6F_76osJq"
   },
   "outputs": [],
   "source": []
  },
  {
   "cell_type": "markdown",
   "id": "a9m2yblcqUeq",
   "metadata": {
    "id": "a9m2yblcqUeq"
   },
   "source": [
    "## 4. Preventing SQL Injection using Templating"
   ]
  },
  {
   "cell_type": "code",
   "execution_count": null,
   "id": "Ep5In0bNuKEn",
   "metadata": {
    "colab": {
     "base_uri": "https://localhost:8080/"
    },
    "id": "Ep5In0bNuKEn",
    "outputId": "515fbe2c-37e3-451c-c636-1ff3dcca3623"
   },
   "outputs": [],
   "source": [
    "category_input = \"EU\"\n",
    "cursor.execute(f\"SELECT * FROM drinks_{STUDENT_NAME_TABLE} WHERE continent = %s;\", (category_input,))\n",
    "europe = cursor.fetchall()\n",
    "europe"
   ]
  },
  {
   "cell_type": "code",
   "execution_count": null,
   "id": "PDar10qnuWpF",
   "metadata": {
    "colab": {
     "base_uri": "https://localhost:8080/"
    },
    "id": "PDar10qnuWpF",
    "outputId": "26f3d4a8-ffee-4eb7-a28e-8d8b72a3e69b"
   },
   "outputs": [],
   "source": [
    "cursor.execute(f\"SELECT * FROM drinks_{STUDENT_NAME_TABLE} WHERE country LIKE %s AND beer_servings > %s;\", ('A%', 50))\n",
    "strong_beers = cursor.fetchall()\n",
    "strong_beers"
   ]
  },
  {
   "cell_type": "markdown",
   "id": "OezMVY1xIObw",
   "metadata": {
    "id": "OezMVY1xIObw"
   },
   "source": [
    "## 5. SELECT Queries with Limiting and Skipping Rows"
   ]
  },
  {
   "cell_type": "code",
   "execution_count": null,
   "id": "F5N8vGCyIRhz",
   "metadata": {
    "colab": {
     "base_uri": "https://localhost:8080/"
    },
    "id": "F5N8vGCyIRhz",
    "outputId": "5e8c47a4-29de-437c-cd0b-27abc533afec"
   },
   "outputs": [],
   "source": [
    "cursor.execute(f\"SELECT * FROM drinks_{STUDENT_NAME_TABLE} LIMIT 5;\")\n",
    "top_five_drinks = cursor.fetchall()\n",
    "top_five_drinks\n"
   ]
  },
  {
   "cell_type": "code",
   "execution_count": null,
   "id": "osTffAUwIUq1",
   "metadata": {
    "colab": {
     "base_uri": "https://localhost:8080/"
    },
    "id": "osTffAUwIUq1",
    "outputId": "8d111776-1722-4e24-b3ff-44deb2448b48"
   },
   "outputs": [],
   "source": [
    "cursor.execute(f\"\"\"\n",
    "SELECT * FROM drinks_{STUDENT_NAME_TABLE}\n",
    "WHERE beer_servings BETWEEN 50 AND 100\n",
    "ORDER BY beer_servings DESC\n",
    "LIMIT 10;\n",
    "\"\"\")\n",
    "moderate_alcohol_drinks = cursor.fetchall()\n",
    "moderate_alcohol_drinks"
   ]
  },
  {
   "cell_type": "markdown",
   "id": "OGhvcGn3I3n6",
   "metadata": {
    "id": "OGhvcGn3I3n6"
   },
   "source": [
    "## 6. ORDER BY queries"
   ]
  },
  {
   "cell_type": "code",
   "execution_count": null,
   "id": "vrlaHQMhIg4G",
   "metadata": {
    "colab": {
     "base_uri": "https://localhost:8080/"
    },
    "id": "vrlaHQMhIg4G",
    "outputId": "e3b91c52-e5c6-4c2c-ecbd-553df5926c39"
   },
   "outputs": [],
   "source": [
    "cursor.execute(f\"SELECT * FROM drinks_{STUDENT_NAME_TABLE} ORDER BY continent;\")\n",
    "drinks_ordered_by_name = cursor.fetchall()\n",
    "drinks_ordered_by_name"
   ]
  },
  {
   "cell_type": "code",
   "execution_count": null,
   "id": "_jpb3sFnJIkx",
   "metadata": {
    "colab": {
     "base_uri": "https://localhost:8080/"
    },
    "id": "_jpb3sFnJIkx",
    "outputId": "afd0634a-a000-4877-d04c-bb23489e3240"
   },
   "outputs": [],
   "source": [
    "cursor.execute(f\"\"\"\n",
    "SELECT * FROM drinks_{STUDENT_NAME_TABLE}\n",
    "ORDER BY spirit_servings DESC, country;\n",
    "\"\"\")\n",
    "sorted_drinks = cursor.fetchall()\n",
    "sorted_drinks"
   ]
  },
  {
   "cell_type": "markdown",
   "id": "sPtNwMxTJZy0",
   "metadata": {
    "id": "sPtNwMxTJZy0"
   },
   "source": [
    "## 7. Implementing Pagination with itertools"
   ]
  },
  {
   "cell_type": "code",
   "execution_count": null,
   "id": "M2-tPjZKJl51",
   "metadata": {
    "colab": {
     "base_uri": "https://localhost:8080/"
    },
    "id": "M2-tPjZKJl51",
    "outputId": "04a3ea8b-3e20-4aeb-f28a-c4dec1316a92"
   },
   "outputs": [],
   "source": [
    "from itertools import islice, zip_longest\n",
    "\n",
    "def batched(iterable, n):\n",
    "    \"Batch data into lists of length n. The last batch may be shorter.\"\n",
    "    # batched('ABCDEFG', 3) --> ABC DEF G\n",
    "    it = iter(iterable)\n",
    "    while True:\n",
    "        batch = list(islice(it, n))\n",
    "        if not batch:\n",
    "            return\n",
    "        yield batch\n",
    "\n",
    "\n",
    "cursor.execute(f\"SELECT * FROM drinks_{STUDENT_NAME_TABLE};\")\n",
    "all_drinks = cursor.fetchall()\n",
    "\n",
    "# Pagination logic\n",
    "pages = batched(all_drinks, 5)\n",
    "for page, data in enumerate(pages):\n",
    "    print(f'page: {page}')\n",
    "    print(data)\n",
    "    print('-'*20)\n"
   ]
  },
  {
   "cell_type": "code",
   "execution_count": null,
   "id": "TaP6oVgVJqTx",
   "metadata": {
    "colab": {
     "base_uri": "https://localhost:8080/"
    },
    "id": "TaP6oVgVJqTx",
    "outputId": "e42fe707-e49a-4cba-e3d8-2ae3305f4aec"
   },
   "outputs": [],
   "source": [
    "cursor.execute(f\"SELECT * FROM drinks_{STUDENT_NAME_TABLE} WHERE spirit_servings > 10;\")\n",
    "beer_drinks = cursor.fetchall()\n",
    "\n",
    "# Pagination setup\n",
    "pages = batched(beer_drinks, 5)\n",
    "for page, batch in enumerate(pages):\n",
    "    print(f'page: {page}')\n",
    "    print(batch)\n",
    "    print('-'*20)\n"
   ]
  },
  {
   "cell_type": "markdown",
   "id": "NDhoNy5Lozlz",
   "metadata": {
    "id": "NDhoNy5Lozlz"
   },
   "source": [
    "### Mini Exercise - Using itertools for Data Processing\n",
    "Use itertools to group a list of tuples from a query based on a specific attribute (e.g., student's department)."
   ]
  },
  {
   "cell_type": "code",
   "execution_count": null,
   "id": "1SpAkUh2ozl0",
   "metadata": {
    "id": "1SpAkUh2ozl0"
   },
   "outputs": [],
   "source": [
    "\n"
   ]
  },
  {
   "cell_type": "markdown",
   "id": "vdnIEXD0J0IJ",
   "metadata": {
    "id": "vdnIEXD0J0IJ"
   },
   "source": [
    "## 8. Loading Data into a Pandas DataFrame"
   ]
  },
  {
   "cell_type": "code",
   "execution_count": null,
   "id": "Piw7QuyYJ2Qs",
   "metadata": {
    "colab": {
     "base_uri": "https://localhost:8080/"
    },
    "id": "Piw7QuyYJ2Qs",
    "outputId": "f5bb7971-234a-469e-f2c3-f3f95c09abb8"
   },
   "outputs": [],
   "source": [
    "df = pd.read_sql(f\"SELECT * FROM drinks_{STUDENT_NAME_TABLE};\", conn)\n",
    "print(df.head())\n"
   ]
  },
  {
   "cell_type": "code",
   "execution_count": null,
   "id": "6JlfqCANJ2Tg",
   "metadata": {
    "colab": {
     "base_uri": "https://localhost:8080/",
     "height": 529
    },
    "id": "6JlfqCANJ2Tg",
    "outputId": "3a1f6dfa-7fb1-443b-d526-710ee529e515"
   },
   "outputs": [],
   "source": [
    "df.groupby('continent').mean()['total_litres_of_pure_alcohol'].plot(kind='bar')"
   ]
  },
  {
   "cell_type": "markdown",
   "id": "555de40b",
   "metadata": {
    "id": "555de40b"
   },
   "source": [
    "### Mini Exercise - Visualization and Analysis\n",
    "Create a simple plot (e.g., bar chart) using matplotlib to visualize the count of students in each department."
   ]
  },
  {
   "cell_type": "code",
   "execution_count": null,
   "id": "eNSxMIICmeAo",
   "metadata": {
    "id": "eNSxMIICmeAo"
   },
   "outputs": [],
   "source": [
    "\n"
   ]
  },
  {
   "cell_type": "code",
   "execution_count": null,
   "id": "q2sfFEs4o_Gl",
   "metadata": {
    "id": "q2sfFEs4o_Gl"
   },
   "outputs": [],
   "source": []
  },
  {
   "cell_type": "markdown",
   "id": "0d224f49",
   "metadata": {
    "id": "0d224f49"
   },
   "source": [
    "### Mini Exercise - Database Management\n",
    "Write a script to add a new column to an existing table (e.g., adding a 'gender' column to the 'students' table)."
   ]
  },
  {
   "cell_type": "code",
   "execution_count": null,
   "id": "be302a28",
   "metadata": {
    "id": "be302a28"
   },
   "outputs": [],
   "source": []
  },
  {
   "cell_type": "markdown",
   "id": "6a529431",
   "metadata": {
    "id": "6a529431"
   },
   "source": [
    "\n",
    "## Final Exercise\n",
    "Using the concepts learned in this notebook, perform the following tasks:\n",
    "- Create a new table 'courses' with columns 'course_id', 'course_name', and 'student_id'.\n",
    "- Insert sample data into the 'courses' table.\n",
    "- Write a query to select all students who are taking more than one course.\n",
    "- Use a GROUP BY clause to find the average age of students in each course.\n",
    "- Implement pagination to display results in batches of 5.\n",
    "- Finally, load the results into a Pandas DataFrame and create a simple plot.\n",
    "\n"
   ]
  },
  {
   "cell_type": "code",
   "execution_count": null,
   "id": "04bc59f6",
   "metadata": {
    "colab": {
     "base_uri": "https://localhost:8080/",
     "height": 598
    },
    "id": "04bc59f6",
    "outputId": "d7712975-b4a0-46ad-cf31-146d12f6c52a"
   },
   "outputs": [],
   "source": []
  },
  {
   "cell_type": "markdown",
   "id": "f2a5ecb3",
   "metadata": {
    "pycharm": {
     "name": "#%% md\n"
    }
   },
   "source": [
    "# Teardown"
   ]
  },
  {
   "cell_type": "code",
   "execution_count": null,
   "id": "a8d47511",
   "metadata": {
    "pycharm": {
     "name": "#%%\n"
    }
   },
   "outputs": [],
   "source": [
    "conn = psycopg2.connect(host=DB_HOST, port=DB_PORT, database=DB_NAME, user=DB_USER, password=DB_PASSWORD)\n",
    "cursor = conn.cursor()\n",
    "\n",
    "# Creating tables (drinks, countries, drink_reviews, ingredients, drink_ingredients)\n",
    "cursor.execute(f\"\"\"\n",
    "DROP TABLE IF EXISTS drinks_{STUDENT_NAME_TABLE} cascade;\n",
    "DROP TABLE IF EXISTS students_{STUDENT_NAME_TABLE} cascade;\n",
    "DROP TABLE IF EXISTS courses_{STUDENT_NAME_TABLE} cascade;\n",
    "\"\"\")\n",
    "conn.commit()\n",
    "cursor.close()\n",
    "conn.close()"
   ]
  }
 ],
 "metadata": {
  "colab": {
   "collapsed_sections": [
    "5pf-e-0bnEiJ",
    "fdd2aa4b",
    "BXUydDBVnk96",
    "CPKnze-CpbF6",
    "9foeHSpUoc70",
    "FXROtbJRp2_l",
    "a9m2yblcqUeq",
    "OezMVY1xIObw",
    "OGhvcGn3I3n6",
    "sPtNwMxTJZy0",
    "NDhoNy5Lozlz",
    "vdnIEXD0J0IJ",
    "6a529431"
   ],
   "provenance": []
  },
  "kernelspec": {
   "display_name": "Python 3 (ipykernel)",
   "language": "python",
   "name": "python3"
  },
  "language_info": {
   "codemirror_mode": {
    "name": "ipython",
    "version": 3
   },
   "file_extension": ".py",
   "mimetype": "text/x-python",
   "name": "python",
   "nbconvert_exporter": "python",
   "pygments_lexer": "ipython3",
   "version": "3.10.6"
  }
 },
 "nbformat": 4,
 "nbformat_minor": 5
}
